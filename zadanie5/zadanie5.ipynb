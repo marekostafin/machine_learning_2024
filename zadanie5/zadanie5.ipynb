{
  "cells": [
    {
      "cell_type": "markdown",
      "metadata": {
        "id": "9HGhQwtpNszF"
      },
      "source": [
        "# NLP Exercises\n",
        "\n",
        "We have five exercises in this section. The exercises are:\n",
        "1. Build your own tokenizer, where you need to implement two functions to implement a tokenizer based on regular expression.\n",
        "2. Get tags from Trump speech.\n",
        "3. Get the nouns in the last 10 sentences from Trump's speech and find the nouns divided by sentencens. Use SpaCy.\n",
        "4. Build your own Bag Of Words implementation using tokenizer created before.\n",
        "5. Build a 5-gram model and clean up the results."
      ]
    },
    {
      "cell_type": "markdown",
      "metadata": {
        "id": "8LAyaYG3NszH"
      },
      "source": [
        "## Exercise 1. Build your own tokenizer\n",
        "\n",
        "Build two different tokenizers:\n",
        "- ``tokenize_sentence``: function tokenizing text into sentences,\n",
        "- ``tokenize_word``: function tokenizing text into words."
      ]
    },
    {
      "cell_type": "code",
      "execution_count": 2,
      "metadata": {
        "colab": {
          "base_uri": "https://localhost:8080/"
        },
        "id": "I-e1ss93NszH",
        "outputId": "dd232e14-aa9b-4467-dab4-a294f3e11869"
      },
      "outputs": [
        {
          "output_type": "stream",
          "name": "stdout",
          "text": [
            "Tokenized sentences:\n",
            "['Here we go again.', 'I was supposed to add this text later.', \"Well, it's 10.p.m. here, and I'm actually having fun making this course.\", ':oI hope you are getting along fine with this presentation, I really did try.', 'And one last sentence, just so you can test you tokenizers better.']\n",
            "Tokenized words:\n",
            "['Here', 'we', 'go', 'again', 'I', 'was', 'supposed', 'to', 'add', 'this', 'text', 'later', 'Well', \"it's\", '10.p.m', 'here', 'and', \"I'm\", 'actually', 'having', 'fun', 'making', 'this', 'course', ':o', 'hope', 'you', 'are', 'getting', 'along', 'fine', 'with', 'this', 'presentation', 'I', 'really', 'did', 'try', 'And', 'one', 'last', 'sentence', 'just', 'so', 'you', 'can', 'test', 'you', 'tokenizers', 'better']\n"
          ]
        }
      ],
      "source": [
        "import re\n",
        "from typing import List\n",
        "\n",
        "def tokenize_words(text: str) -> list:\n",
        "    \"\"\"Tokenize text into words using regex.\n",
        "\n",
        "    Parameters\n",
        "    ----------\n",
        "    text: str\n",
        "            Text to be tokenized\n",
        "\n",
        "    Returns\n",
        "    -------\n",
        "    List[str]\n",
        "            List containing words tokenized from text\n",
        "\n",
        "    \"\"\"\n",
        "    words = re.findall(r\"\\b\\w+'\\w+\\b|\\b\\w+\\.\\w+\\.\\w+\\b|:\\w|\\b\\w+\\b\", text)\n",
        "    return words\n",
        "\n",
        "def tokenize_sentence(text: str) -> list:\n",
        "    \"\"\"Tokenize text into words using regex.\n",
        "\n",
        "    Parameters\n",
        "    ----------\n",
        "    text: str\n",
        "            Text to be tokenized\n",
        "\n",
        "    Returns\n",
        "    -------\n",
        "    List[str]\n",
        "            List containing words tokenized from text\n",
        "\n",
        "    \"\"\"\n",
        "    sentences = re.split(r'(?<=[.!?])\\s+(?![a-z])|(?<=[.!?])(?=[A-Z])', text)\n",
        "    sentences = [sentence.strip() for sentence in sentences if sentence.strip()]\n",
        "    return sentences\n",
        "\n",
        "text = \"Here we go again. I was supposed to add this text later.\\\n",
        "Well, it's 10.p.m. here, and I'm actually having fun making this course. :o\\\n",
        "I hope you are getting along fine with this presentation, I really did try.\\\n",
        "And one last sentence, just so you can test you tokenizers better.\"\n",
        "\n",
        "print(\"Tokenized sentences:\")\n",
        "print(tokenize_sentence(text))\n",
        "\n",
        "print(\"Tokenized words:\")\n",
        "print(tokenize_words(text))"
      ]
    },
    {
      "cell_type": "markdown",
      "metadata": {
        "id": "wxK5Byv5NszJ"
      },
      "source": [
        "## Exercise 2. Get tags from Trump speech using NLTK\n",
        "\n",
        "You should use the ``trump.txt`` file, read it and find the tags for each word. Use NLTK for it."
      ]
    },
    {
      "cell_type": "code",
      "execution_count": 3,
      "metadata": {
        "colab": {
          "base_uri": "https://localhost:8080/"
        },
        "id": "t1i6vN2VNszK",
        "outputId": "180b6f60-bdd9-4a90-c345-2154ba4beb3f"
      },
      "outputs": [
        {
          "output_type": "stream",
          "name": "stderr",
          "text": [
            "[nltk_data] Downloading package punkt to /root/nltk_data...\n",
            "[nltk_data]   Package punkt is already up-to-date!\n",
            "[nltk_data] Downloading package averaged_perceptron_tagger to\n",
            "[nltk_data]     /root/nltk_data...\n",
            "[nltk_data]   Package averaged_perceptron_tagger is already up-to-\n",
            "[nltk_data]       date!\n"
          ]
        },
        {
          "output_type": "stream",
          "name": "stdout",
          "text": [
            "('NNP', 'PRP', 'RB', 'RB', '.', 'NNP', 'NNP', ',', 'NNP', 'NNP', 'NNP', ',', 'NNP', 'IN', 'NNP', ',', 'DT', 'NNP', 'NNP', 'IN', 'DT', 'NNP', 'NNPS', ',', 'CC', 'NNS', 'IN', 'NNP', ':', 'NN', ',', 'IN', 'PRP', 'VBP', 'DT', 'NN', 'IN', 'PRP$', 'NN', 'IN', 'NNP', 'NNP', 'NNP', ',', 'PRP', 'VBP', 'VBN', 'IN', 'PRP$', 'NN', 'POS', 'NN', 'NNS', 'JJ', 'NNS', 'CC', 'DT', 'NN', 'WDT', 'RB', 'VBZ', 'TO', 'VB', 'VBN', '.', 'JJ', 'NNS', 'VBG', 'NNP', 'NN', 'NNS', 'CC', 'NN', 'IN', 'JJ', 'NNS', ',', 'RB', 'RB', 'IN', 'JJ', 'NN', 'POS', 'NN', 'IN', 'NNP', 'NNP', ',', 'VBP', 'PRP', 'IN', 'IN', 'PRP', 'MD', 'VB', 'DT', 'NN', 'VBN', 'IN', 'NNS', ',', 'PRP', 'VBP', 'DT', 'NN', 'WDT', 'VBZ', 'JJ', 'IN', 'VBG', 'NN', 'CC', 'NN', 'IN', 'DT', 'IN', 'PRP$', 'RB', 'RB', 'NNS', '.', 'DT', 'JJ', 'NN', 'VBZ', 'DT', 'NN', 'IN', 'NN', ',', 'NN', ',', 'CC', 'NN', 'IN', 'DT', 'JJ', 'NN', ',', 'PDT', 'DT', 'NN', 'IN', 'TO', 'DT', 'JJ', '.', 'DT', 'NN', 'VBZ', 'RB', 'IN', 'PRP$', 'NNS', ',', 'CC', 'PRP', 'MD', 'VB', 'PRP', 'TO', 'VB', 'RP', 'DT', 'NN', '.', 'PRP', 'VBP', 'RB', 'VBN', 'TO', 'VB', 'DT', 'NN', 'IN', 'NN', 'CC', 'NN', ',', 'CC', 'PRP', 'VBZ', 'DT', 'NN', 'RB', 'VBN', 'IN', 'PRP$', 'NN', '.', 'DT', 'JJ', 'NN', 'IN', 'JJ', 'NN', 'VBZ', 'RB', 'VBG', '.', 'DT', 'JJ', 'JJ', 'NN', 'VBZ', 'VBG', 'IN', 'PRP$', 'NN', '.', 'CC', 'DT', 'JJ', 'NN', 'IN', 'NN', 'VBZ', 'VBG', 'JJ', 'NNS', 'RB', 'IN', 'PRP$', 'NN', '.', 'WP', 'PRP', 'VBP', 'VBG', 'NN', 'VBZ', 'DT', 'NN', 'IN', 'DT', 'JJ', 'NN', '.', 'PRP$', 'NNS', 'MD', 'VB', 'DT', 'NNP', 'VBZ', 'RB', 'RB', 'JJ', 'TO', 'VB', '.', 'PDT', 'DT', 'NNS', 'IN', 'DT', 'NN', 'CC', 'VB', 'VB', 'DT', 'NNP', 'VBZ', 'JJ', ',', 'NNP', 'VBZ', 'JJ', ',', 'CC', 'NNP', 'VBZ', 'JJ', '.', 'IN', 'CD', 'NNS', ',', 'DT', 'NNP', 'NNPS', 'MD', 'VB', 'DT', 'JJ', 'NN', 'IN', 'PRP$', 'NN', ':', 'CD', 'NNS', 'IN', 'DT', 'NN', 'PRP', 'VBD', 'PRP$', 'NN', '.', 'PRP', 'MD', 'VB', 'CD', 'IN', 'DT', 'JJ', 'NNS', 'IN', 'DT', 'NN', 'IN', 'DT', 'NN', '.', 'CC', 'WP', 'MD', 'NNP', 'VB', 'IN', 'IN', 'PRP', 'VBP', 'PRP$', 'CD', 'NN', '.', 'WP', 'NN', 'IN', 'NN', 'MD', 'PRP', 'VB', 'IN', 'PRP$', 'NNS', '.', 'PRP', 'MD', 'RB', 'VB', 'DT', 'NNS', 'IN', 'JJ', 'NNS', 'IN', 'TO', 'VB', 'DT', 'NN', 'IN', 'PRP$', 'NN', '.', 'IN', 'RB', 'RB', ',', 'PRP', 'VBP', 'VBN', 'PRP$', 'JJ', 'NN', 'NN', 'IN', 'PRP', 'VBP', 'VBN', 'PRP$', 'NNS', 'CC', 'NN', 'TO', 'JJ', 'NNS', '.', 'PRP', 'VBP', 'VBN', 'CC', 'VBN', 'CD', 'JJ', 'NN', 'IN', 'DT', ',', 'CC', 'VBD', 'DT', 'NNS', 'IN', 'PRP$', 'NNS', 'IN', 'DT', 'JJ', 'NNS', 'IN', 'NNP', ',', 'NNP', ',', 'NNP', ',', 'CC', 'RB', 'JJ', 'JJ', 'NNS', 'IN', 'PRP$', 'NN', '.', 'PRP', 'VBP', 'VBN', 'DT', 'NNS', 'IN', 'JJ', 'NNS', ',', 'IN', 'VBG', 'PRP$', 'JJ', 'NNS', 'JJ', 'JJ', 'IN', 'NN', 'TO', 'VB', 'CC', 'IN', 'NNS', 'TO', 'VB', 'IN', 'IN', 'DT', 'RB', 'JJ', 'NN', '.', 'CC', 'PRP', 'VBP', 'VBN', 'NNS', 'CC', 'NNS', 'IN', 'NNS', 'RB', ',', 'IN', 'PRP$', 'NN', 'IN', 'NN', 'VBZ', 'RB', 'RB', 'VBN', '.', 'RB', ',', 'IN', 'CD', ',', 'DT', 'NNP', 'VBD', 'IN', 'PRP$', 'NNS', '.', 'DT', 'NN', 'VBD', 'IN', 'DT', 'JJ', 'NN', ',', 'VBN', 'IN', 'NNS', 'IN', 'DT', 'NNS', 'CC', 'NNS', ',', 'NNS', 'WP', 'RB', 'VBD', 'DT', 'JJ', 'NN', 'IN', 'PRP$', 'NNS', 'CC', 'DT', 'JJ', 'NN', 'IN', 'PRP$', 'NNS', '.', 'CC', 'RB', 'DT', 'JJ', 'NNS', 'VBD', 'DT', 'JJ', 'NN', ',', 'IN', 'NNS', 'IN', 'NNS', 'RB', 'VBP', 'RP', 'RB', ',', 'IN', 'NNS', 'JJ', 'CC', 'JJ', ',', 'DT', 'IN', 'PRP$', 'NN', '.', 'RB', ',', 'DT', 'NN', 'VBD', 'DT', 'NN', ',', 'CC', 'DT', 'NNS', 'VBD', 'RP', 'IN', 'DT', 'NNS', 'IN', 'NNS', ',', 'CC', 'PRP', 'VBD', 'DT', 'VBN', 'IN', 'CD', 'RB', 'JJ', ',', 'CC', 'JJ', 'NN', ':', 'DT', 'NNP', 'MD', 'VB', 'PRP$', 'JJ', 'NNS', 'RB', '.', 'IN', 'RB', 'RB', 'MD', 'PRP', 'RB', 'VBP', 'NNP', 'JJ', 'RB', '.', 'VBG', 'NNS', 'MD', 'VB', 'VBG', 'RB', 'TO', 'NN', '.', 'NNP', 'NNPS', 'MD', 'VB', 'DT', 'NN', 'PRP', 'RB', 'RB', 'NN', '.', 'PRP$', 'JJ', 'MD', 'VB', 'VBN', 'DT', 'NNS', 'PRP$', 'JJ', 'NNS', 'RB', 'RB', 'NN', '.', 'VBG', 'NN', 'MD', 'VB', 'VBN', 'IN', 'JJ', 'NNS', ',', 'NNS', ',', 'NNS', ',', 'NNS', ',', 'CC', 'NNS', 'VBG', 'IN', 'PRP$', 'RB', ',', 'RB', 'JJ', 'NN', '.', 'PRP$', 'JJ', 'NN', 'NNS', 'MD', 'VB', 'RB', 'CC', ',', 'RB', ',', 'VB', '.', 'CC', 'PRP$', 'JJ', 'JJ', 'NNS', 'MD', 'VB', 'DT', 'NN', 'IN', 'NN', ',', 'NN', ',', 'CC', 'NN', '.', 'IN', 'DT', 'RB', ',', 'PRP', 'MD', 'VB', 'PRP$', 'NNS', 'TO', 'DT', 'JJ', 'NNS', '.', 'NN', 'NNP', 'NNP', 'NNP', 'PRP', '.', 'PRP', 'VBZ', 'VBN', 'DT', 'RB', 'IN', 'DT', 'NN', 'IN', 'PRP$', 'NNP', ',', 'CC', 'PRP', 'VBP', 'TO', 'VB', 'DT', 'NN', 'TO', 'VB', 'DT', 'NN', 'IN', 'DT', 'NN', 'PRP', 'VBP', 'VBN', 'IN', 'VBG', 'DT', 'NNS', '.', 'IN', 'PRP$', 'NN', ',', 'NNP', ',', 'NNP', 'NNP', ',', 'NNP', 'NNPS', ',', 'NNP', ',', 'NNP', ',', 'NNP', ',', 'NNP', ',', 'NNP', ',', 'CC', 'JJ', 'NNS', 'VBP', 'VBN', 'IN', 'PRP', 'MD', 'VB', 'NNS', 'CC', 'NNS', 'IN', 'NNS', 'IN', 'DT', 'NNP', 'NNPS', 'CC', 'MD', 'VB', 'NNS', 'IN', 'NNS', 'IN', 'JJ', 'JJ', 'NNS', '.', 'DT', 'NN', 'NN', 'VBZ', 'VBN', 'RB', '$', 'CD', 'CD', 'IN', 'NN', 'IN', 'DT', 'NN', 'IN', 'NNP', 'CD', 'NN', '.', 'PRP', 'VBP', 'VBN', 'NNS', 'NNS', 'IN', 'NNS', 'IN', 'NNS', 'IN', 'VBG', 'RP', 'DT', 'NN', 'IN', 'NN', 'PRP', 'VBZ', 'DT', 'JJ', 'NNP', 'NN', 'NN', ',', 'CC', 'PRP', 'MD', 'VB', 'VBG', 'NNS', 'RBR', 'IN', 'NNS', 'DT', 'IN', 'PRP$', 'NN', '.', 'PRP', 'VBP', 'VBN', 'DT', 'NN', 'NN', 'IN', 'JJ', 'CC', 'JJ', 'NNP', 'NNS', '.', 'PRP', 'VBP', 'VBN', 'TO', 'VB', 'DT', 'NN', 'IN', 'NN', 'NN', 'IN', 'VBG', 'DT', 'JJ', 'NN', 'IN', 'NN', 'IN', 'JJ', 'NN', 'NNS', 'CC', 'DT', 'NN', 'NN', 'NN', 'IN', 'NNP', 'NNP', 'PRP', '.', 'VB', 'PRP', '.', 'CC', 'DT', 'JJ', 'NN', 'IN', 'VBG', 'NNS', 'IN', 'DT', 'JJ', 'NN', '.', 'PRP', 'VBP', 'VBN', 'DT', 'JJ', 'NN', 'TO', 'RB', 'VB', 'JJ', 'NNS', ',', 'VBG', 'DT', 'NN', 'NNP', 'NNP', 'IN', 'IN', 'DT', 'NNP', 'NN', '.', 'CC', 'PRP', 'VBP', 'VBG', 'DT', 'JJ', 'NN', 'WDT', 'VBZ', 'IN', 'IN', 'DT', 'CD', 'JJ', 'NN', ',', 'CD', 'JJ', 'NNS', 'MD', 'VB', 'VBN', '.', 'PRP', 'VBP', 'VBG', 'TO', 'VB', 'DT', 'NNS', 'WDT', 'VBP', 'DT', 'NN', 'CC', 'NN', 'IN', 'PRP$', 'JJ', 'NN', 'NNS', '.', 'PRP', 'VBP', 'VBN', 'DT', 'NN', 'IN', 'DT', 'NN', 'IN', 'DT', 'NNP', 'CC', 'NNP', 'NNP', 'NNS', ',', 'RB', 'VBG', 'NNS', 'IN', 'NNS', 'IN', 'NNS', '.', 'CC', 'PRP', 'VBP', 'VBN', 'DT', 'JJ', 'NN', 'WDT', 'JJ', 'JJ', 'NNS', 'VB', 'VBN', 'IN', 'JJ', 'NN', '.', 'PRP', 'VBP', 'VBN', 'DT', 'NNP', 'NNPS', 'IN', 'DT', 'JJ', 'NNP', 'NNP', '.', 'CC', 'IN', 'DT', 'NN', 'IN', 'NNP', 'NNP', 'NNP', 'NNP', ',', 'PRP', 'VBP', 'VBN', 'DT', 'NN', 'IN', 'PRP$', 'NNS', 'IN', 'NNP', 'TO', 'VB', 'VB', 'DT', 'NNS', 'NNS', 'VBP', 'NN', 'TO', 'DT', 'NNS', ',', 'NNS', ',', 'CC', 'NN', 'PRP', 'VBP', 'TO', 'VB', 'DT', 'NN', 'CC', 'VB', 'RP', 'PRP$', 'JJ', 'NNS', '.', 'TO', 'VB', 'PRP$', 'NNS', ',', 'PRP', 'VBP', 'VBN', 'DT', 'NNP', 'IN', 'NNP', 'TO', 'VB', 'DT', 'NNP', 'NNP', 'IN', 'VBG', 'NNP', 'NNP', '.', 'PRP', 'VBP', 'RB', 'VBN', 'DT', 'NNS', 'IN', 'NNP', 'NNP', 'CC', 'NNP', ',', 'IN', 'IN', 'DT', 'NNP', 'IN', 'NNP', 'CC', 'DT', 'NNP', 'IN', 'NNP', 'NNP', ',', 'TO', 'VB', 'DT', 'JJ', 'NN', 'TO', 'VB', 'DT', 'JJ', 'NNS', 'WDT', 'VBP', 'VBN', 'DT', 'IN', 'PRP$', 'NN', '.', 'PRP', 'MD', 'VB', 'DT', 'NNS', 'IN', 'VBG', 'IN', 'PRP$', 'NN', 'CC', 'VBG', 'PRP$', 'NN', ',', 'CC', 'PRP', 'MD', 'VB', 'NN', 'IN', 'DT', 'WP', 'VBP', 'VBN', 'RB', 'RB', 'VBN', '.', 'IN', 'DT', 'JJ', 'NN', ',', 'PRP$', 'NN', 'VBZ', 'VBN', 'DT', 'NN', 'IN', 'DT', 'JJ', 'NNS', 'IN', 'NN', 'NN', 'CC', 'NN', 'NN', '.', 'IN', 'RB', 'VBG', 'PRP$', 'NN', 'NNS', ',', 'PRP', 'MD', 'VB', 'NNS', ',', 'VBP', 'DT', 'JJ', ',', 'JJ', 'NNS', 'CC', 'NNS', 'IN', 'NNS', ',', 'CC', 'VB', 'PRP$', 'NNS', 'VBP', 'IN', 'NN', '.', 'PRP', 'VBP', 'DT', 'NNPS', 'TO', 'VB', ',', 'CC', 'DT', 'MD', 'RB', 'VB', 'IN', 'DT', 'NN', 'IN', 'JJ', 'NN', '.', 'PRP', 'MD', 'VB', 'NN', 'CC', 'DT', 'NN', 'IN', 'NN', 'IN', 'PRP$', 'NNS', '.', 'IN', 'DT', 'NN', ',', 'PRP', 'MD', 'RB', 'VB', 'DT', 'NN', 'IN', 'DT', 'JJ', ',', 'JJ', 'NN', 'IN', 'PRP$', 'JJ', 'NN', '.', 'IN', 'PRP', 'VBP', 'JJ', ',', 'PRP', 'VBP', 'VBG', 'NN', 'NNS', ',', 'NN', 'NNS', ',', 'CC', 'NNS', 'WDT', 'VBP', 'PRP$', 'NNS', 'CC', 'NN', 'IN', 'PRP$', 'RB', 'JJ', 'NNS', '.', 'NNP', 'NNS', 'VBP', 'VBG', 'IN', 'IN', 'PRP', 'VBP', ',', 'CC', 'IN', 'PRP', 'VBP', 'VBN', 'IN', 'DT', 'NN', '.', 'TO', 'DT', 'IN', 'NNP', 'WP', 'VBP', 'RB', 'VB', 'PRP', 'MD', 'VB', 'PRP$', 'NNS', ',', 'PRP', 'MD', 'VB', 'PRP', 'DT', 'CD', 'NN', ':', 'WP', 'MD', 'PRP', 'VB', 'TO', 'DT', 'JJ', 'NN', 'WDT', 'VBZ', 'PRP$', 'NNS', ',', 'PRP$', 'NN', ',', 'CC', 'PRP$', 'JJ', 'NN', 'IN', 'NNP', 'VBD', 'TO', 'VB', 'PRP$', 'NNS', 'CC', 'VB', 'PRP$', 'NNS', '.', 'PRP$', 'NN', 'VBZ', 'TO', 'VB', ',', 'VB', ',', 'CC', 'VB', 'DT', 'NNS', 'IN', 'DT', 'NNP', 'NNPS', '.', 'PRP', 'VBP', 'RB', 'VBG', 'JJ', 'NNS', 'TO', 'VB', 'PRP$', 'NN', 'IN', 'JJ', 'NNP', 'NN', '.', 'VBG', 'TO', 'NNS', 'VBN', 'IN', 'DT', 'NNP', 'IN', 'NNP', ',', 'DT', 'JJ', 'NN', 'IN', 'NNS', 'VBN', 'IN', 'NN', 'CC', 'JJ', 'NNS', 'IN', 'CD', 'VBD', 'RB', 'IN', 'NN', 'IN', 'PRP$', 'NN', '.', 'PRP', 'VBP', 'VBN', 'DT', 'NNS', 'IN', 'NN', ',', 'IN', 'NNP', 'TO', 'NNP', 'NNP', 'TO', 'DT', 'NNP', ',', 'CC', ',', 'UH', ',', 'RB', 'DT', 'NNP', 'NNP', 'NNP', '.', 'PRP', 'VBP', 'VBN', 'DT', 'NNS', 'IN', 'NNP', ',', 'IN', 'NNP', ',', 'IN', 'NNP', ',', 'CC', 'DT', 'IN', 'DT', 'NN', '.', 'PRP', 'VBZ', 'RB', 'JJ', ',', 'CC', 'JJ', 'TO', 'VB', 'JJ', 'NN', 'IN', 'NNS', 'WRB', 'JJ', 'NN', 'MD', 'RB', 'VB', '.', 'DT', 'VBN', 'DT', 'JJ', 'NN', 'IN', 'NN', 'TO', 'DT', 'NNP', 'NNPS', 'MD', 'VB', 'DT', 'NN', 'CC', 'VB', 'PRP$', 'NNS', 'CC', 'PRP$', 'NNS', '.', 'PRP', 'MD', 'RB', 'VB', 'DT', 'NN', 'IN', 'NN', 'TO', 'VB', 'IN', 'NNP', '.', 'PRP', 'MD', 'RB', 'VB', 'PRP$', 'NN', 'TO', 'VB', 'DT', 'JJ', 'IN', 'NNS', '.', 'DT', 'VBZ', 'WRB', 'PRP$', 'NN', 'VBZ', 'VBN', 'VBG', 'IN', 'JJ', 'NN', 'NNS', ',', 'CC', 'PRP', 'MD', 'RB', 'VB', 'JJ', 'NNS', 'TO', 'VB', 'PRP$', 'NNP', 'NN', 'CC', 'TO', 'VB', 'DT', 'IN', 'WP', 'MD', 'VB', 'PRP', 'VB', '.', 'IN', 'JJ', ',', 'PRP', 'VBD', 'DT', 'NNP', 'IN', 'NNP', 'TO', 'VB', 'DT', 'NN', 'TO', 'VB', 'CC', 'VB', 'NNP', ',', 'DT', 'NN', 'IN', 'NN', 'NNS', 'WDT', 'VBP', 'VBN', 'NNP', 'CC', 'NNPS', ',', 'CC', 'NNS', 'CC', 'NNS', 'CC', 'NNS', 'IN', 'DT', 'NNS', 'CC', 'DT', 'NNS', '.', 'PRP', 'MD', 'VB', 'IN', 'PRP$', 'NNS', ',', 'VBG', 'PRP$', 'NNS', 'CC', 'NNS', 'IN', 'DT', 'NNP', 'NN', ',', 'TO', 'VB', 'DT', 'JJ', 'NN', 'IN', 'PRP$', 'NN', '.', 'PRP', 'VBP', 'RB', 'VBN', 'JJ', 'NNS', 'IN', 'NNS', 'CC', 'NNS', 'WP', 'VBP', 'NNP', 'POS', 'JJ', 'NN', 'NN', 'CC', 'VBD', 'PRP$', 'JJ', 'NN', 'IN', 'DT', 'NNP', 'IN', 'NNP', '.', 'NNP', ',', 'PRP', 'VBP', 'VBN', 'PRP$', 'NN', 'TO', 'VB', 'DT', 'NNP', 'TO', 'DT', 'NNP', 'NNPS', 'NNP', 'NNP', ',', 'IN', 'PRP$', 'NN', 'IN', 'CD', 'NNS', ',', 'WP', 'MD', 'VB', 'PRP$', 'NNP', '.', 'PRP', 'VBP', 'RB', 'VBN', 'TO', 'VB', 'NNP', 'NNP', 'IN', 'PRP', 'IN', 'DT', 'NN', 'NN', '.', 'NNP', 'PRP', ',', 'NNP', '.', 'PRP$', 'JJ', ',', 'JJ', 'NN', ',', 'NNP', 'NNP', ',', 'MD', 'RB', 'VB', 'DT', 'NN', 'IN', 'JJ', 'NN', '.', 'TO', 'VB', 'PRP$', 'NN', ',', 'PRP', 'VBP', 'VBN', 'NNP', 'NNP', 'NNP', ',', 'DT', 'NN', 'IN', 'JJ', 'NN', 'CC', 'JJ', 'NN', 'TO', 'DT', 'NN', '.', 'PRP', 'VBD', 'VBN', 'RB', 'IN', 'DT', 'NNP', 'IN', 'NNP', ',', 'CC', 'PRP', 'VBP', 'VBG', 'DT', 'NNP', 'TO', 'RB', 'VB', 'PRP$', 'NN', '.', 'NNP', ',', 'IN', 'PRP', 'VBP', 'DT', 'JJ', 'NNS', 'PRP', 'MD', 'VB', 'IN', 'DT', 'NN', ',', 'PRP', 'MD', 'RB', 'VB', 'DT', 'NNS', 'PRP', 'VBD', '.', 'CD', 'CD', 'NNPS', 'VBP', 'IN', 'IN', 'DT', 'NN', 'NN', '.', 'IN', 'CD', 'CD', 'NNS', 'VBP', 'RB', 'VBG', 'IN', 'NN', ',', 'CC', 'IN', 'CD', 'CD', 'NNPS', 'VBP', 'IN', 'NN', 'NNS', '.', 'JJR', 'IN', 'CD', 'IN', 'CD', 'NNS', 'IN', 'PRP$', 'JJ', 'JJ', 'NNS', 'VBP', 'RB', 'VBG', '.', 'PRP', 'VBP', 'DT', 'JJS', 'JJ', 'NN', 'IN', 'CD', 'NNS', '.', 'IN', 'DT', 'JJ', 'CD', 'NNS', ',', 'DT', 'JJ', 'NN', 'VBZ', 'VBN', 'IN', 'JJR', 'JJ', 'NN', 'IN', 'RB', 'DT', 'IN', 'DT', 'JJ', 'NNS', 'VBN', '.', 'PRP', 'VBP', 'VBN', 'JJR', 'IN', 'NN', 'IN', 'PRP$', 'NN', 'NNS', 'IN', 'NNP', 'VBD', 'VBN', ',', 'CC', 'PRP', 'VBP', 'VBN', 'CD', 'NNS', 'IN', 'NNP', 'VBD', 'DT', 'NNP', 'NNP', 'NNP', 'IN', 'CD', '.', 'PRP$', 'NN', 'NN', 'IN', 'NNS', 'IN', 'DT', 'NN', 'JJ', 'NN', 'VBD', 'RB', '$', 'CD', 'CD', 'NNS', '.', 'CC', 'RB', 'PRP', 'VBP', 'VBN', 'DT', 'NN', 'IN', 'JJ', 'JJ', 'NN', 'NNS', '.', 'VBG', 'DT', 'CC', 'RB', 'JJ', 'JJ', 'VBG', 'NNS', 'MD', 'VB', 'PRP', 'TO', 'VB', 'IN', 'DT', 'NNS', 'IN', 'NN', '.', 'PRP', 'MD', 'VB', 'PRP', 'TO', 'VB', 'IN', 'DT', 'JJ', 'NN', 'WDT', 'VBZ', 'VBN', 'DT', 'NN', 'IN', 'PRP$', 'JJ', 'CC', 'JJ', 'NN', '.', 'CC', 'TO', 'VB', 'PRP$', 'NNS', 'IN', 'NN', 'CC', 'RB', ',', 'PRP', 'MD', 'VB', 'DT', 'NN', 'IN', 'DT', 'JJ', 'NN', ',', 'VBG', 'PRP', 'JJR', 'IN', 'NNS', 'TO', 'VB', 'NN', 'IN', 'DT', 'NNP', 'NNPS', ',', 'CC', 'RB', ',', 'JJ', 'JJR', 'IN', 'NNS', 'TO', 'VB', 'PRP$', 'NN', '.', 'RB', 'RB', 'JJ', 'NNS', 'VBP', 'VBN', 'IN', 'CD', 'IN', 'DT', 'JJS', 'NNS', 'RB', 'IN', 'DT', 'NN', '.', 'PRP$', 'JJ', 'NN', 'VBZ', 'VBG', 'JJ', 'NN', 'NN', 'WDT', 'MD', 'VB', 'DT', 'NN', 'NN', 'IN', 'PRP$', 'NNS', 'IN', 'PRP', 'MD', 'VB', 'CC', 'VB', 'RB', 'CC', 'IN', 'NN', '.', 'PRP', 'MD', 'VB', 'DT', 'JJ', ',', 'JJ', 'NN', '.', 'IN', 'DT', 'JJ', 'NN', ',', 'PRP', 'MD', 'VB', 'JJ', 'NN', 'NN', 'IN', 'DT', 'JJ', 'NN', '.', 'PRP', 'MD', 'VB', 'DT', 'JJ', 'NN', 'NN', 'IN', 'JJ', 'NNS', 'CC', 'PRP$', 'NN', 'TO', 'VB', 'PRP', '.', 'RB', ',', 'WRB', 'PRP', 'VBP', 'NNS', 'IN', 'IN', 'NNP', ',', 'JJ', 'JJ', 'NNS', 'VBP', 'PRP', 'VB', 'RB', 'JJ', 'NNS', 'CC', 'NNS', '.', 'CC', 'WRB', 'JJ', 'NNS', 'VBP', 'PRP$', 'NNS', 'IN', 'NNP', ',', 'PRP', 'VBP', 'PRP', 'NN', ',', 'CC', 'RB', 'NN', '.', 'PRP', 'RB', 'VBD', 'IN', 'NNS', 'CC', 'NNS', 'IN', 'DT', 'JJ', 'JJ', 'NN', ',', 'NNP', '.', 'IN', 'NN', ',', 'PRP', 'RB', 'VBD', 'CD', 'IN', 'PRP$', 'NN', 'NNS', ',', 'VBN', 'IN', 'DT', 'NNP', ',', 'IN', 'DT', 'JJ', 'NN', 'IN', 'DT', 'NNP', 'NNP', '.', 'CC', 'NNP', 'NNP', 'CC', 'PRP', 'VBD', 'PRP', 'TO', 'VB', 'CD', ',', 'CC', 'PRP', 'VBD', ',', '``', 'UH', ',', 'VB', 'PRP', '.', \"''\", 'JJ', 'NNP', 'NN', 'IN', 'PRP$', 'NN', ',', 'PRP', 'VBD', 'PRP', ',', 'WRB', 'VBP', 'PRP', 'VBG', ',', 'WRB', 'VBZ', 'NN', '.', 'PRP', 'VBD', 'IN', 'PRP', 'VBZ', 'JJ', '.', 'PRP', 'VBD', 'PRP', 'RBR', ',', 'WRB', 'VBP', 'PRP', 'VBG', 'IN', 'JJ', 'NNS', ',', 'RB', 'JJ', 'NNS', '.', 'PRP', 'VBD', 'RP', 'RB', 'VBG', ',', 'IN', 'PRP', 'VBP', 'VBN', 'RB', 'JJ', 'IN', 'RB', 'JJ', 'IN', 'PRP', 'VBP', 'VBN', 'JJ', 'TO', 'VB', 'PRP', 'VBZ', 'RB', 'JJ', 'TO', 'VB', 'NN', 'IN', 'JJ', 'NNS', 'IN', 'PRP', 'NN', 'PRP$', 'NNS', 'IN', 'PDT', 'DT', 'JJ', 'NN', '.', 'PRP', 'VBD', 'IN', 'IN', 'DT', 'NN', 'IN', 'DT', 'NN', ',', 'PRP', 'VBP', 'PRP$', 'NNS', 'IN', 'CD', 'NN', '.', 'PRP', 'VBD', 'RB', 'RB', 'VBG', 'IN', 'DT', 'NN', '.', 'CC', 'PRP', 'VBP', '.', 'PRP', 'VBP', 'RB', 'IN', 'JJ', 'NN', ',', 'CC', 'PRP', 'RB', 'VBZ', 'TO', 'VB', 'JJ', 'NN', '.', 'PRP', 'VBZ', 'VBN', 'DT', 'JJ', 'NN', 'IN', 'PRP', 'VBD', 'JJ', 'NN', '.', 'DT', 'JJ', 'NNP', 'NNP', ',', 'NNP', 'NNP', ',', 'VBD', 'IN', 'DT', '``', 'NN', 'IN', 'DT', 'JJ', 'NN', 'IN', 'DT', 'JJ', 'NNP', 'MD', 'VB', 'JJ', 'CC', 'VB', 'IN', 'PRP$', 'NNS', '.', \"''\", 'NNP', 'VBD', 'JJ', ',', 'CC', 'PRP', 'VBZ', 'NN', 'PRP', 'VBD', 'PRP$', 'NN', 'CC', 'PRP$', 'NNS', '.', 'PRP', 'VBP', 'RB', 'VBG', 'TO', 'VB', 'NNP', 'CC', 'PRP$', 'JJ', 'NNS', 'CC', 'NNS', 'VB', 'VBN', 'NN', 'IN', 'PRP', 'DT', 'RBR', '.', 'PRP', 'VBP', 'VBN', 'NN', 'IN', 'PRP$', 'NN', '.', 'RB', 'RBR', '.', 'PRP', 'VBP', 'VBG', 'TO', 'VB', 'RP', 'NNS', 'IN', 'NNS', '.', 'VBG', 'PRP$', 'NNS', 'RB', 'VBZ', 'VBG', 'PRP$', 'NN', 'IN', 'JJ', 'NN', '.', 'DT', 'JJ', ',', 'JJ', 'NN', 'VBZ', 'NNS', 'IN', 'PRP$', 'JJS', 'NNS', 'CC', 'VBZ', 'JJ', 'NN', 'IN', 'NNS', '.', 'NNS', 'IN', 'DT', 'NN', 'IN', 'NNP', ',', 'NNP', ',', 'CC', 'JJ', 'NNS', ',', 'VBP', 'DT', 'JJ', 'NN', 'NN', '.', 'PRP', 'VBZ', 'DT', 'JJ', 'NN', 'IN', 'DT', 'VBG', 'TO', 'VB', 'DT', 'NN', 'MD', 'TO', 'VB', 'JJ', 'TO', 'VB', 'PRP', 'RB', '.', 'CC', ',', 'IN', 'NNP', ',', 'PRP', 'VBP', 'RB', 'VB', 'DT', 'NN', ',', 'VBG', 'DT', 'RB', 'JJ', 'NNS', 'IN', 'PRP$', 'JJS', 'NNS', 'RB', 'IN', '.', 'VBG', 'TO', 'DT', 'NNP', 'NNP', 'IN', 'NNPS', ',', 'PRP$', 'JJ', 'NN', 'NN', 'NNS', 'JJ', 'NNS', 'JJ', 'NNS', 'IN', 'NNS', 'DT', 'NN', '.', 'VBG', 'RB', 'IN', 'DT', 'JJ', 'NN', 'IN', 'JJR', 'VBN', 'NN', ',', 'CC', 'RB', 'VBG', 'DT', 'JJ', 'NN', ',', 'PRP', 'MD', 'VB', 'RB', 'JJ', 'JJR', 'NNS', '.', 'PRP', 'MD', 'VB', 'JJ', 'NNS', ',', 'NN', 'NNS', 'POS', 'NNS', ',', 'CC', 'VB', 'VBG', 'VBG', 'JJ', 'NN', 'DT', 'JJ', 'NN', '.', 'CC', 'PRP', 'MD', 'VB', 'PRP', 'RB', ',', 'CC', 'PRP', 'MD', 'VB', 'RB', ',', 'RB', 'JJ', ',', 'RB', '.', 'PRP', 'VBP', 'IN', 'JJ', 'CC', 'JJ', 'NN', 'NN', 'VBZ', 'JJ', ',', 'RB', 'RB', 'IN', 'PRP', 'VBP', 'IN', 'DT', 'JJ', 'NNS', ':', 'TO', 'VB', 'NNS', 'CC', 'NNS', 'IN', 'NNPS', ',', 'TO', 'VB', 'PRP$', 'NN', 'POS', 'NN', ',', 'CC', 'TO', 'VB', 'NN', 'IN', 'PRP$', 'NNS', '.', 'IN', 'PRP', 'VBP', 'VBN', 'IN', 'DT', 'NN', 'IN', 'JJ', 'NNS', ',', 'RB', 'PRP', 'VBP', 'NNPS', 'CC', 'NNPS', 'MD', 'VB', 'RB', 'TO', 'VB', 'DT', 'NN', 'WDT', 'VBZ', 'VBN', 'PRP$', 'NN', 'IN', 'NNS', '.', 'DT', 'JJ', 'NNP', ',', 'NNP', 'NNP', 'NNP', ',', 'VBD', 'DT', 'JJ', 'RB', 'JJ', 'JJ', 'NN', 'NN', 'NN', 'IN', 'DT', 'NNP', 'NNP', 'NNP', '.', 'DT', 'NN', 'VBZ', 'VBN', 'IN', 'DT', 'JJ', 'NN', 'IN', 'JJ', 'NN', '.', 'NNP', 'VBZ', 'VBN', 'RB', '$', 'CD', 'CD', 'IN', 'DT', 'NNP', 'NNP', ':', 'PDT', 'DT', 'NN', ',', 'PRP$', 'NN', 'IN', 'NN', 'VBZ', 'VBG', '.', 'IN', 'DT', '$', 'CD', 'CD', ',', 'PRP', 'MD', 'VB', 'VBN', 'PRP$', 'NN', 'RB', ',', 'CC', 'RB', 'RB', 'CD', 'NNS', 'IN', 'PRP', 'VBD', 'NNS', 'WP', 'VBD', 'DT', 'NN', 'TO', 'VB', '.', 'JJ', 'NNP', 'NN', 'TO', 'VB', 'PRP$', 'JJ', 'NN', ',', 'PRP', 'MD', 'VB', 'VBG', 'NNP', 'TO', 'VB', 'NN', 'WDT', 'VBZ', 'DT', '$', 'CD', 'CD', 'NN', 'IN', 'NN', 'IN', 'DT', 'NNP', 'NNP', 'IN', 'DT', 'JJ', 'CC', 'JJ', 'NN', 'NNS', 'IN', 'JJ', 'NNS', '.', 'DT', 'NN', 'MD', 'VB', 'VBN', 'IN', 'CD', 'NN', 'NNS', ':', 'VB', 'NNP', 'CC', 'VB', 'NNP', '.', 'NNP', 'PRP', 'VBP', 'RB', 'VBG', 'IN', 'DT', 'NNP', 'TO', 'VB', 'CC', 'VB', 'NNP', 'IN', 'NNS', 'WDT', 'VBP', 'NN', ',', 'NN', 'NN', ',', 'JJR', 'NNS', ',', 'CC', 'IN', 'DT', 'JJ', 'NN', ',', 'VB', 'JJR', 'NN', 'NN', '.', 'VBG', 'DT', 'JJ', 'TO', 'VB', 'NNP', 'NN', 'NN', 'VBD', 'RB', 'DT', 'JJ', 'NN', 'IN', 'PRP$', 'NN', '.', 'DT', 'NN', 'TO', 'VB', 'NN', 'NN', 'JJ', 'TO', 'NN', 'VBZ', 'TO', 'VB', 'DT', 'NN', 'IN', 'NN', 'NN', ',', 'CC', 'DT', 'VBZ', 'WP', 'PRP', 'VBP', 'VBG', 'NN', '.', 'VB', 'NNS', 'JJ', 'VBP', 'VBN', 'IN', 'JJ', 'CC', 'JJ', 'NNS', '.', 'IN', 'DT', 'NN', ',', 'NNP', 'VBD', 'RB', 'CD', 'NN', 'JJ', 'NN', 'RB', '.', 'NNP', 'NNP', 'NNP', 'IN', 'NNP', 'RB', 'VBD', 'NNP', 'VBZ', 'VBG', 'IN', 'PRP$', 'NNP', 'NNP', 'IN', 'NNP', 'PRP', 'VBZ', 'JJ', 'CC', 'VBG', '.', 'NN', 'IN', 'DT', 'NNS', 'VBP', 'RB', 'CD', 'NN', ',', 'CC', 'PRP', 'VBP', 'VBG', 'PRP', 'JJS', '.', 'PRP', 'VBP', 'VBG', 'PRP', 'RB', 'RB', '.', 'PRP', 'VBP', 'VBG', ',', 'CC', 'JJ', 'NNS', 'VBP', 'DT', 'NN', 'IN', 'DT', '.', 'EX', 'VBZ', 'DT', 'NN', 'VBD', '.', 'VB', 'WRB', 'PRP', 'VBD', 'VBN', 'IN', 'PRP', 'MD', 'VB', 'PRP$', 'NN', 'CC', 'VB', 'PRP$', 'NN', '.', 'PRP', 'RB', 'VBP', 'IN', 'DT', 'IN', 'DT', 'NNS', 'VBP', 'VBN', 'RB', 'JJ', '.', 'NNP', 'VBZ', 'VBG', ',', 'CC', 'PRP', 'MD', 'VB', 'RB', 'TO', 'VB', 'DT', 'NNPS', '.', 'NNP', 'VBZ', 'RB', 'DT', 'NN', ',', 'PRP', 'VBZ', 'DT', 'NN', '.', 'IN', 'PRP', 'VBP', 'VBG', 'IN', 'DT', 'NNPS', 'CC', 'NNPS', 'IN', 'NNP', 'TO', 'VB', 'IN', 'PRP', 'TO', 'VB', 'NNPS', 'IN', 'DT', 'VBG', 'NNP', 'NN', '.', 'RB', 'VBP', 'DT', 'NNS', 'WDT', 'MD', 'VB', 'DT', 'NNP', 'IN', 'PRP', 'VBP', 'TO', 'VB', 'DT', 'JJR', 'NN', 'NN', 'NN', 'IN', 'DT', 'NNPS', ':', 'RB', ',', 'PRP', 'MD', 'VB', 'IN', 'NNPS', 'IN', 'VBG', 'NNS', 'VBP', 'NN', 'TO', 'NN', ',', 'CC', 'IN', 'PRP', 'VBP', 'DT', 'JJ', 'NN', 'IN', 'NNPS', 'RB', 'VBN', 'IN', 'DT', 'NN', 'NN', 'NNS', '.', 'RB', ',', 'PRP', 'MD', 'VB', 'NNPS', 'VB', 'PRP$', 'JJ', 'NN', 'IN', 'DT', 'NN', 'IN', 'NN', 'NNS', 'CC', 'VBD', 'NN', 'NNS', 'NNS', ',', 'CC', 'PRP', 'MD', 'VB', 'DT', 'NN', 'PRP', 'VBP', ',', 'RB', 'DT', 'NN', 'VBN', 'IN', 'PRP', 'IN', 'PRP$', 'NNP', '.', 'RB', ',', 'PRP', 'MD', 'VB', 'PRP$', 'NNP', 'NNPS', 'DT', 'NNS', 'CC', 'NN', 'PRP', 'VBP', 'IN', 'NNP', 'TO', 'VB', 'JJ', 'DT', 'NN', 'VBZ', 'VBN', 'RP', '.', 'NNP', ',', 'PRP', 'MD', 'VB', 'JJ', 'NNS', 'WDT', 'VBP', 'NNS', 'CC', 'NNS', 'IN', 'JJ', 'NNS', 'WDT', 'VBP', 'RP', 'DT', 'NN', 'IN', 'NN', 'CC', 'NN', 'TO', 'VB', 'RP', 'DT', 'RB', 'JJ', 'NN', 'IN', 'NNS', 'CC', 'VB', 'PRP', 'RP', 'RB', '.', 'CC', 'RB', ',', 'DT', 'NN', 'VBZ', 'VBN', 'TO', 'VB', 'NNPS', 'DT', 'NN', 'TO', 'VB', 'NN', 'NN', 'IN', 'NNP', 'NNS', ',', 'WDT', 'MD', 'VB', 'DT', 'RB', 'JJ', 'JJ', 'NN', 'WDT', 'MD', 'VB', 'NNS', 'NN', 'RB', 'CC', 'VB', 'RB', 'JJR', 'NN', '.', 'RB', 'JJ', '.', 'NN', 'WDT', 'VBZ', 'VBN', 'IN', 'PRP$', 'NN', 'MD', 'VB', 'VBN', '.', 'DT', 'NN', 'MD', 'VB', 'VBN', '.', 'CC', 'DT', 'VBG', 'NN', 'MD', 'VB', 'JJ', 'CC', 'NN', '.', 'PRP$', 'NNS', 'VB', 'DT', 'CC', 'RB', 'RB', 'JJR', ',', 'RB', 'WRB', 'RB', 'VB', 'NNS', 'CC', 'RB', 'VB', 'DT', 'NN', 'VBN', ',', 'CC', 'VB', 'PRP', 'VBN', 'RB', '.', 'IN', 'DT', 'CC', 'RB', 'JJ', 'JJ', 'NNS', ',', 'NNPS', 'CC', 'NNPS', 'MD', 'VB', 'RB', 'CC', 'JJ', 'IN', 'DT', 'NN', 'IN', 'PRP$', 'NN', 'CC', 'IN', 'DT', 'NN', 'IN', 'DT', 'JJ', 'NNS', '.', 'PRP$', 'NN', 'VBZ', 'TO', 'VB', 'IN', 'NNS', 'IN', 'DT', 'NNS', 'TO', 'VB', 'NN', 'JJ', 'CC', 'JJ', ':', 'TO', 'VB', 'VB', 'JJ', 'NNS', 'IN', 'PRP', 'VBP', 'VBN', 'NN', 'VBP', ':', 'TO', 'VB', 'IN', 'NNS', 'POS', 'NN', ':', 'CC', 'TO', 'VB', 'JJ', 'NN', 'CC', 'JJ', 'NN', ':', 'CC', 'TO', 'VB', 'PRP$', 'JJ', 'CC', 'PRP$', 'NN', '.', 'NNP', 'NN', 'IN', 'PRP$', 'NNS', 'VBZ', 'PRP', 'TO', 'VB', 'JJ', 'NN', ',', 'TO', 'VB', 'DT', 'JJ', 'JJ', ',', 'CC', 'TO', 'VB', 'IN', 'NN', 'IN', 'DT', 'JJ', 'NN', 'WP', 'VBZ', 'DT', 'RB', 'NN', 'NN', '.', 'DT', 'JJ', 'JJ', 'NN', 'VBZ', 'IN', 'PRP', 'DT', 'NN', ',', 'WP', 'MD', 'VB', 'IN', 'DT', 'NN', 'TO', 'PRP', 'DT', '.', 'NN', 'VBZ', 'JJ', 'NNP', 'NNP', ',', 'CC', 'VBG', 'PRP', 'IN', 'DT', 'NN', 'VBZ', 'DT', 'JJ', 'NN', 'NN', ',', 'NNP', 'NNP', '.', 'NNP', 'VBD', 'VBN', 'IN', 'NNP', 'NN', ',', 'DT', 'JJ', 'CC', 'JJ', 'NN', ',', 'WRB', 'PRP', 'VBD', 'CD', 'NNS', 'JJ', '.', 'PRP', 'VBD', 'RB', 'VBN', 'TO', 'VB', 'JJ', 'CD', '.', 'IN', 'VBG', 'DT', 'NN', ',', 'NNP', 'POS', 'NN', 'NNP', 'NN', 'IN', 'NN', 'PRP', 'VBD', 'TO', 'VB', 'DT', 'NN', 'IN', 'PRP$', 'JJ', 'NN', '.', 'PRP', 'VBD', 'DT', 'NN', 'TO', 'VB', 'IN', 'DT', 'NN', 'CC', 'VBD', 'VB', 'DT', 'NN', 'WDT', 'VBD', 'NNP', 'POS', 'NN', '.', 'NN', 'PRP', 'VBZ', 'CD', 'NNS', 'JJ', 'CC', 'DT', 'NN', 'IN', 'NNP', 'NNP', '.', 'NNP', 'POS', 'NN', 'VBZ', 'IN', 'DT', 'JJ', 'NN', 'IN', 'DT', 'NN', 'POS', 'NN', 'IN', 'DT', 'NN', '.', 'CC', 'PRP$', 'JJ', 'CC', 'JJ', 'NN', 'NN', 'IN', 'DT', 'NNP', 'CC', 'NNP', 'NNP', 'VBZ', 'RB', 'JJ', 'NNS', ',', 'IN', 'DT', 'NN', 'WDT', 'VBD', 'NNP', 'POS', 'NN', ',', 'IN', 'VBG', 'DT', 'IN', 'NN', '.', 'IN', 'PRP', 'VBP', 'DT', 'NNS', ',', 'RB', 'RB', 'IN', 'DT', 'NNP', ',', 'CC', 'IN', 'PRP$', 'NN', ',', 'RB', 'PRP', 'MD', 'VB', 'VBN', 'IN', 'RB', 'JJR', 'NNS', 'RB', 'IN', 'NNP', '.', 'IN', 'NN', ',', 'PRP$', 'NNS', 'MD', 'VB', 'RP', 'IN', 'DT', 'NN', 'IN', 'NNS', '.', 'CC', 'TO', 'VB', 'DT', 'NN', ',', 'PRP', 'MD', 'VB', 'DT', 'NN', 'CC', 'DT', 'NN', 'IN', 'DT', 'JJ', 'NN', '.', 'NN', 'VBZ', 'DT', 'JJ', 'NNS', 'NN', 'IN', 'PRP$', 'NN', '.', 'PRP', 'VBP', 'VBG', 'IN', 'NNS', 'IN', 'DT', 'NNS', 'TO', 'VB', 'DT', 'NN', 'NN', 'WDT', 'NNS', 'NN', 'NN', 'IN', 'VBN', 'NN', ',', 'VBG', 'NNS', 'IN', 'JJ', 'NNP', 'CC', 'NNP', 'NNS', '.', 'DT', 'NNS', 'MD', 'VB', 'JJ', 'TO', 'VB', 'DT', 'NN', ',', 'JJ', ',', 'NN', ',', 'NN', ',', 'JJ', ',', 'CC', 'NN', 'NN', 'WDT', 'VBZ', 'JJ', 'IN', 'PRP', '.', 'VBG', 'PRP', 'NN', 'IN', 'DT', 'NN', 'VBZ', 'DT', 'JJ', 'NN', ',', 'NNP', 'NNP', '.', 'IN', 'DT', 'JJ', 'NN', ',', 'NNP', 'VBD', 'IN', 'NN', 'CC', 'VBD', 'JJ', 'JJ', 'NN', '.', 'CC', 'RB', ',', 'PRP', 'VBD', 'JJ', 'TO', 'VB', 'IN', 'DT', 'JJ', 'NN', 'IN', 'NN', 'VBG', 'VBD', 'DT', 'NN', 'IN', 'DT', 'NN', 'NN', 'CC', 'DT', 'JJ', 'NN', '.', 'NN', ',', 'PRP', 'VBZ', 'DT', 'JJ', 'IN', 'PRP$', 'NN', 'TO', 'VB', ',', 'RB', 'RB', 'IN', 'JJ', 'NN', ',', 'CC', 'IN', 'NN', '.', 'RBR', 'DT', 'NN', 'PRP', 'MD', 'VB', 'PRP$', 'NN', 'POS', 'NN', 'IN', 'JJ', 'NN', '.', 'PRP', 'VBP', 'DT', 'NNS', 'TO', 'VB', 'JJ', 'TO', 'VB', 'DT', 'NN', 'IN', 'NN', 'RB', 'IN', 'NNP', '.', 'CC', 'TO', 'VB', 'DT', 'NN', 'IN', 'NN', ',', 'PRP', 'MD', 'RB', 'VB', 'DT', 'NN', 'IN', 'NN', '.', 'DT', 'NN', 'NN', 'IN', 'CD', 'VBD', 'PRP$', 'JJS', 'JJ', 'NN', 'IN', 'RB', 'PDT', 'DT', 'NN', '.', 'IN', 'NNP', ',', 'JJR', 'IN', 'CD', 'NNS', 'VBD', 'VBN', 'JJ', 'NN', 'RB', ',', 'CC', 'DT', 'NN', 'NN', 'RB', 'RB', 'DT', 'NN', 'VBZ', 'VBN', 'RB', 'JJR', '.', 'DT', 'VBZ', 'RB', 'JJ', 'IN', 'PRP$', 'NN', '.', 'JJ', 'JJ', 'NN', 'MD', 'VB', 'JJ', 'TO', 'VB', 'RP', 'IN', 'DT', 'JJ', 'NN', ',', 'TO', 'VB', 'DT', 'JJ', 'NN', ',', 'CC', 'TO', 'VB', 'NN', 'TO', 'DT', 'JJ', 'NN', '.', 'CC', 'TO', 'VB', 'DT', 'NN', ',', 'PRP', 'MD', 'VB', 'IN', ',', 'RB', 'VB', 'JJ', 'NNS', 'CC', 'NNS', 'IN', 'NN', 'NN', '.', 'PRP', 'MD', 'VB', 'NNS', 'IN', 'NN', 'CC', 'NN', ',', 'RB', 'VB', 'DT', 'NN', 'IN', 'NN', ',', 'CC', 'RB', ',', 'PRP', 'VBZ', 'WP', 'PRP', 'NN', '.', 'PRP', 'VBZ', 'NN', ',', 'JJ', 'NN', '.', 'PRP', 'VBP', 'TO', 'VB', '.', 'NNP', 'CC', 'NNS', 'VBP', 'NNS', 'IN', 'PRP$', 'NN', '.', 'PRP', 'VBP', 'NNS', 'CC', 'NNS', ',', 'PRP', 'VBP', 'NNS', 'CC', 'NNS', ',', 'NNS', 'CC', 'NNS', ',', 'CC', 'PRP', 'VBP', 'IN', 'JJ', 'NNS', 'DT', 'NN', 'WP', 'VBP', 'IN', 'IN', 'CC', 'RB', 'PRP', 'MD', 'VB', 'NN', 'JJ', 'CC', 'JJ', '.', 'PRP', 'MD', 'VB', 'DT', 'JJ', 'NNS', 'CC', 'NNS', 'IN', 'NN', 'NN', '.', 'CC', 'PRP', 'MD', 'VB', 'DT', 'NNS', 'IN', 'NN', '.', 'PRP', 'VBP', 'VBN', 'DT', 'NNP', 'IN', 'NNP', 'NNP', 'TO', 'VB', 'DT', 'NN', 'TO', 'VB', 'JJ', 'NNS', '.', 'DT', 'NN', 'VBZ', 'VBN', 'NN', ':', 'NNS', 'IN', 'NNP', 'NNP', 'NNP', '.', 'PRP', 'VBP', 'VBG', 'DT', 'NN', 'TO', 'DT', 'WP', 'VBP', 'VBN', 'VBN', 'IN', 'PRP$', 'NNS', 'CC', 'VBN', 'IN', 'JJ', 'NNS', '.', 'VBG', 'PRP', 'IN', 'DT', 'NN', 'NN', 'VBP', 'CD', 'RB', 'JJ', 'NNPS', 'WP$', 'NNP', 'VBD', 'PRP', '.', 'PRP$', 'NNS', 'VBP', 'NNP', 'NNP', ',', 'NNP', 'NNP', ',', 'NNP', 'NNP', ',', 'CC', 'NNP', 'NNP', '.', 'NNP', 'POS', 'JJ', 'NN', 'VBD', 'RB', 'VBN', 'IN', 'DT', 'JJ', 'NN', 'NN', 'NN', 'WP', 'VBD', 'RB', 'VBN', 'VBN', 'IN', 'NN', '.', 'NNP', 'NNP', ',', 'NNP', 'VBD', 'DT', 'JJ', 'JJ', 'NN', ',', 'IN', 'JJ', 'NN', ',', 'WP', 'VBD', 'VBG', 'JJ', 'TO', 'VB', 'TO', 'NN', 'WRB', 'PRP', 'MD', 'VB', 'VBN', 'IN', 'DT', 'JJ', 'NN', 'NN', '.', 'CC', 'PRP', 'RB', 'VBD', 'DT', 'NN', '.', 'PRP$', 'NN', ',', 'WP', 'VBZ', 'IN', 'DT', 'NN', 'NN', ',', 'VBZ', 'VBN', 'DT', 'RB', 'JJ', 'NN', 'IN', 'NN', '.', 'NNP', ',', 'NN', 'PRP', '.', 'VB', 'PRP', '.', 'RB', 'IN', 'PRP', 'VBP', 'JJ', 'NNP', 'CC', 'NNP', 'NNP', '.', 'PRP$', 'NNS', ',', 'NNP', 'NNP', 'NNP', 'NNP', 'CC', 'NNP', 'NNP', 'NNP', ',', 'VBD', 'VBN', 'IN', 'DT', 'NN', 'IN', 'NN', 'IN', 'NNP', '.', 'PRP', 'VBD', 'NNS', 'IN', 'PRP$', 'NN', '.', 'DT', 'VBP', 'NNS', 'VBD', 'RB', 'VBN', 'RP', 'IN', 'DT', 'JJ', 'NN', 'IN', 'DT', 'JJ', 'NN', 'CC', 'CD', 'JJ', 'NNS', '.', 'MD', 'VB', 'RB', 'VBN', 'IN', 'PRP$', 'NN', '.', 'VBG', 'IN', 'NNP', 'VBZ', 'PRP$', 'NN', ',', 'NNP', '.', 'NNP', ',', 'PRP', 'VBP', 'PRP', 'TO', 'VB', 'IN', 'PRP$', 'NN', 'VBD', 'DT', 'NN', ',', 'CC', 'IN', 'NN', 'PRP', 'VBP', 'DT', 'NN', 'IN', 'DT', 'JJ', 'NN', 'VBG', 'PRP', 'CC', 'VBG', 'IN', 'PRP', '.', 'TO', 'NNP', ',', 'NNP', ',', 'NNP', ',', 'CC', 'NNP', ':', 'PRP', 'VBP', 'PRP', 'TO', 'VB', 'IN', 'PRP', 'MD', 'RB', 'VB', 'VBG', 'IN', 'NN', '.', 'PRP$', 'JJ', 'NNS', 'MD', 'RB', ',', 'RB', 'VB', 'VBN', '.', 'PRP', 'MD', 'RB', 'VB', 'PRP$', 'NN', '.', 'RB', ',', 'TO', 'VB', 'NNP', 'JJ', ',', 'PRP', 'MD', 'VB', 'DT', 'NNS', 'CC', 'NNS', 'IN', 'DT', 'NNP', 'NNPS', 'JJ', 'IN', 'DT', 'NNS', 'PRP', 'VBP', 'TO', 'VB', 'NN', '.', 'IN', 'PRP', 'MD', ',', 'PRP', 'VBP', 'TO', 'VB', 'CC', 'PRP', 'RB', 'VBP', 'TO', 'VB', '.', 'PRP', 'VBP', 'VBG', 'NNP', 'DT', 'NN', 'WDT', 'VBZ', 'DT', 'JJ', ',', 'VBZ', 'DT', 'NN', 'NN', ',', 'CC', 'VBZ', 'IN', 'CD', 'IN', 'DT', 'JJS', 'NNS', 'IN', 'JJ', 'NN', 'NN', 'IN', 'JJ', 'NN', '.', 'NNP', 'NN', 'MD', 'RB', 'VB', 'NN', 'IN', 'PRP$', 'NNS', '.', 'PRP$', 'NNS', 'VBP', 'VBN', 'IN', 'DT', 'NNP', ',', 'CC', 'RB', 'PRP', 'MD', 'VB', 'IN', 'PRP', '.', 'DT', 'NNS', 'PRP', 'VBP', 'IN', 'DT', 'NN', 'VBP', 'JJ', ',', 'CC', 'PRP$', 'NNS', 'VBP', 'RB', 'JJR', '.', 'CC', 'NN', 'VBP', 'JJR', 'CC', 'VBP', 'VBN', 'IN', 'DT', 'WP', 'VBP', 'IN', 'NNP', 'IN', 'JJ', '.', 'PRP', 'VBP', 'VBN', 'TO', 'VB', 'VBN', 'JJ', 'IN', 'NNP', 'NNP', ',', 'DT', 'NN', 'IN', 'NNP', 'NNP', 'NNP', 'NNP', ',', 'NNP', 'NNP', 'NNP', '``', 'NNP', \"''\", 'NNP', '.', 'NNP', 'VBD', 'IN', 'PRP', 'VBD', ':', 'DT', 'NN', 'CC', 'DT', 'NN', ',', 'VBG', 'IN', 'NN', 'CC', 'VBG', 'PRP$', 'NN', '.', 'PRP', 'RB', 'VBD', 'TO', 'PRP$', 'JJ', 'NNP', 'NNP', ',', 'RB', 'RB', ',', 'WP', 'VBD', 'NN', 'PRP', 'VBP', \"''\", 'NNP', 'VBD', 'DT', 'NN', 'IN', 'DT', 'RB', 'JJ', 'NN', 'IN', 'VBD', 'JJ', 'NNS', 'IN', 'JJ', 'NN', 'WDT', 'MD', 'VB', 'TO', 'JJ', 'JJR', 'NNS', 'IN', 'DT', 'NN', 'IN', 'PRP$', 'NN', '.', \"''\", 'NNP', 'POS', 'NN', 'VBZ', 'VBN', 'IN', 'NN', '.', 'NNP', 'PRP', '.', 'VB', 'NNP', 'NNP', 'CC', 'NNP', 'VBZ', 'VBG', 'RP', ',', 'JJ', 'NN', 'VBP', 'NN', 'PRP', 'VBZ', 'RB', 'JJ', 'IN', 'PRP', 'VBP', 'PRP', 'RB', 'VBD', 'DT', 'NN', '.', 'JJ', 'NNP', 'NN', 'IN', 'IN', 'DT', 'NNP', 'NNS', 'PRP', ',', 'EX', 'VBZ', 'DT', 'JJR', 'NN', 'IN', 'NN', 'IN', 'TO', 'VB', 'RP', 'CD', 'POS', 'NN', 'IN', 'CD', 'POS', 'NNS', '.', 'NNP', 'VBD', 'RP', 'PRP$', 'NN', 'IN', 'PRP$', 'NNS', ',', 'IN', 'PRP$', 'NN', ',', 'CC', 'IN', 'PRP$', 'NN', '.', 'CC', 'PRP', 'MD', 'RB', 'VB', 'NNP', '.', 'TO', 'DT', 'NNS', 'WP', 'VBP', 'WP', 'NN', 'IN', 'DT', 'NN', 'NNP', 'MD', 'VB', ',', 'VB', 'DT', 'JJR', 'IN', 'DT', 'NNS', 'WP', 'VBP', 'PRP$', 'NN', '.', 'PRP$', 'JJ', 'NN', 'VBZ', 'IN', 'DT', 'JJ', ',', 'JJ', ',', 'CC', 'JJ', 'NN', 'IN', 'DT', 'NN', '.', 'PRP', 'VBZ', 'JJ', 'NN', 'VBN', 'IN', 'JJ', 'NN', 'NNS', 'IN', 'PRP', 'NN', 'IN', 'PRP$', 'NNS', 'DT', 'IN', 'DT', 'NN', '.', 'PRP', 'RB', 'VB', 'NNP', ',', 'DT', 'NN', 'VBD', 'IN', 'DT', 'NNS', 'IN', 'CD', 'NN', 'NNS', 'WDT', 'VBD', 'NN', ',', 'CC', 'DT', 'JJ', 'NN', ',', 'CC', 'VBD', 'NN', '.', 'CC', 'PRP$', 'NNS', 'MD', 'VB', 'PRP$', 'JJ', 'NNS', '.', 'CC', 'RB', ',', 'VBN', 'IN', 'PRP$', 'NN', 'JJ', 'CC', 'JJ', 'NNS', ',', 'PRP', 'VBP', 'VBG', 'TO', 'VB', 'RB', 'DT', '.', 'IN', 'NN', ',', 'PRP', 'MD', 'VB', 'PRP', ',', 'DT', 'NN', 'VBZ', 'VBG', 'IN', '.', 'NNP', 'JJ', '.', 'PRP', 'VBP', 'PRP$', 'NN', 'IN', 'NNP', ',', 'DT', 'NNP', 'NNP', ',', 'CC', 'IN', 'DT', 'NNP', 'VB', 'DT', 'JJ', 'CC', 'JJ', 'NN', 'IN', 'DT', 'JJ', 'CC', 'JJ', 'NNS', ',', 'CC', 'VB', 'PRP$', 'JJ', 'NN', 'IN', 'DT', 'NN', '.', 'VBP', 'TO', 'VB', 'DT', '.', 'PRP', 'MD', 'VB', 'JJ', 'NNS', ',', 'CC', 'PRP', 'MD', 'VB', 'DT', 'JJ', 'NNS', 'IN', 'DT', 'NNS', ',', 'CC', 'PRP', 'VBP', 'TO', 'VB', 'PRP$', 'NNS', 'IN', 'DT', 'NN', 'RB', '.', 'JJ', 'NNS', 'VBP', 'DT', 'JJS', 'NN', 'IN', 'VBG', 'DT', 'MD', 'IN', 'DT', 'NNS', ',', 'CC', 'NNP', 'VBZ', 'DT', 'NN', 'IN', 'DT', 'NNS', 'TO', 'VB', 'PRP$', 'JJ', 'NN', '.', 'PRP$', 'NN', 'VBZ', 'RB', 'TO', 'VB', 'DT', 'NN', '.', 'PRP$', 'NN', 'VBZ', 'TO', 'VB', 'DT', 'NNP', 'NNPS', 'IN', 'NNP', '.', 'CC', 'PRP', 'VBP', 'DT', 'NNP', 'VBZ', 'JJR', 'RP', 'WRB', 'EX', 'VBZ', 'JJR', 'NN', ',', 'RB', 'RBR', '.', 'PRP', 'MD', 'VB', 'IN', 'DT', 'NNS', 'IN', 'DT', 'JJ', '.', 'PRP', 'VBP', 'VBN', 'DT', 'NN', 'CC', 'DT', 'NN', 'WDT', 'VBP', 'VBN', 'CC', 'VBN', 'IN', 'DT', 'NN', 'IN', 'DT', 'NN', '.', 'DT', 'JJ', 'JJ', 'NN', 'IN', 'DT', 'JJ', 'NNS', ',', 'IN', 'JJ', 'NNS', ',', 'VBZ', 'TO', 'VB', 'DT', 'NNS', 'WRB', 'VBN', 'NNS', 'MD', 'RB', 'VB', 'NN', 'CC', 'VB', 'DT', 'JJ', ',', 'JJ', 'NN', 'IN', 'VBG', '.', 'NNP', 'VBZ', 'JJ', 'TO', 'VB', 'JJ', 'NNS', 'CC', 'TO', 'VB', 'JJ', 'NNS', 'WRB', 'VBN', 'NNS', 'RB', '.', 'PRP', 'VBP', 'JJ', 'CC', 'NN', ',', 'RB', 'NN', 'CC', 'NN', '.', 'PRP', 'VBP', 'NN', ',', 'WP', 'NN', 'MD', 'VB', 'VBN', '.', 'NNP', 'VBZ', 'NNS', 'NN', 'IN', 'JJ', 'NNS', '.', 'DT', 'IN', 'PRP$', 'JJS', 'NNS', ',', 'NNS', 'RB', ',', 'VBN', 'IN', 'DT', 'JJ', 'NN', 'IN', 'DT', 'JJ', ',', 'JJ', 'NNS', '.', 'DT', 'NN', 'MD', 'VB', 'PRP', 'DT', 'NN', 'IN', 'DT', 'NNS', 'IN', 'DT', 'JJR', 'NN', '.', 'NNP', ',', 'DT', 'CD', 'NN', 'IN', 'NNP', 'MD', 'VB', 'DT', 'NN', 'WDT', 'VBZ', 'RBR', 'JJ', ',', 'RBR', 'RB', ',', 'CC', 'JJR', 'JJ', '.', 'IN', 'PRP$', 'JJ', 'NN', ',', 'IN', 'CD', ',', 'NNS', 'IN', 'IN', 'PRP$', 'NN', 'VBD', 'TO', 'NNP', 'TO', 'VB', 'NNP', 'POS', 'NN', '.', 'IN', 'DT', 'NN', ',', 'DT', 'NN', 'POS', 'NNS', 'CC', 'NNS', 'CC', 'NNS', 'VBD', 'RP', 'PRP$', 'JJ', 'NNS', '.', 'NNP', 'NNP', 'NNP', 'VBD', 'PRP$', 'NN', 'IN', 'DT', 'JJ', 'NN', '.', 'NNP', 'VBD', 'DT', 'JJ', 'NN', '.', 'DT', 'JJ', 'NN', 'VBD', 'VBN', 'IN', 'JJ', 'NN', '.', 'NNP', 'NNP', 'VBD', 'DT', 'JJ', 'NN', 'CC', 'DT', 'JJ', 'NN', '.', 'VB', 'DT', 'NNS', 'PRP$', 'NN', 'MD', 'VB', 'IN', 'NNP', 'POS', 'JJ', 'NN', '.', 'NNP', 'IN', 'DT', 'NNS', 'PRP', 'MD', 'VB', 'IN', 'PRP', 'RB', 'VBD', 'JJ', 'DT', 'NN', 'IN', 'PRP$', 'NNS', '.', 'NNS', 'TO', 'DT', 'NNS', 'WDT', 'VBP', 'RB', 'VBN', 'PRP', 'VBP', 'RB', 'RB', 'JJ', 'TO', 'VB', '.', 'JJ', 'NNS', 'IN', 'JJ', 'NNS', 'VBP', 'RB', 'RB', 'JJ', 'DT', 'NN', '.', 'NNS', 'VBD', 'IN', 'NN', 'TO', 'VB', 'VBZ', 'RB', 'RB', 'JJ', 'TO', 'VB', '.', 'CC', 'NNS', 'WRB', 'NNS', 'VBP', 'JJ', 'IN', 'NN', ',', 'NNS', 'WRB', 'NNS', 'VBP', 'IN', 'NN', ',', 'CC', 'NNS', 'WRB', 'NNPS', 'NN', 'CC', 'NN', 'VBP', 'RB', 'RB', 'JJ', 'TO', 'VB', '.', 'WRB', 'PRP', 'VBP', 'DT', 'IN', 'DT', ',', 'PRP', 'MD', 'VB', 'VBN', 'NNP', 'JJR', 'IN', 'RB', 'VB', 'DT', 'NNPS', '.', 'DT', 'VBZ', 'PRP$', 'NN', '.', 'DT', 'VBZ', 'PRP$', 'NN', '.', 'CC', 'PRP', 'MD', 'RB', 'VB', 'RB', 'RB', '.', 'PRP', 'VBP', 'CD', 'NNS', 'IN', 'CD', 'NN', '.', 'PRP', 'DT', 'VBP', 'DT', 'JJ', 'NN', '.', 'PRP', 'DT', 'VBP', 'DT', 'JJ', 'JJ', 'JJ', 'NN', '.', 'CC', 'PRP', 'DT', 'VBP', 'VBN', 'IN', 'DT', 'JJ', 'NNP', '.', 'WRB', 'PRP', 'VBP', 'DT', 'NN', ',', 'WRB', 'PRP', 'VBP', 'PRP$', 'CD', 'NNS', 'IN', 'JJ', 'NN', ',', 'PRP', 'MD', 'VB', 'RB', 'IN', 'NN', 'IN', 'WRB', 'DT', 'JJ', 'NN', 'IN', 'NNP', 'NN', 'VBD', '.', 'DT', 'NN', 'IN', 'JJ', 'NN', 'VBZ', 'IN', '.', 'DT', 'NN', 'IN', 'JJ', 'NNS', 'VBZ', 'IN', 'PRP', '.', 'PRP', 'RB', 'VB', 'DT', 'NN', 'TO', 'NN', 'DT', 'NNS', 'WDT', 'VBP', 'PRP$', 'NNS', ',', 'DT', 'NN', 'TO', 'VB', 'DT', 'NNS', 'IN', 'VBP', 'PRP$', 'NNS', ',', 'CC', 'DT', 'NN', 'TO', 'VB', 'DT', 'NNS', 'CC', 'DT', 'NNS', 'IN', 'NN', '.', 'CD', 'RB', 'IN', ',', 'NNP', 'MD', 'VB', 'VBN', 'IN', 'PRP$', 'NNS', ',', 'RB', 'VBN', 'IN', 'PRP$', 'NNS', ':', 'VBN', 'IN', 'DT', 'NN', ',', 'RB', 'VBN', 'IN', 'NNS', 'IN', 'DT', 'NN', ':', 'CC', 'VBN', 'IN', 'PRP$', 'NN', ',', 'RB', 'VBN', 'IN', 'PRP$', 'NNS', '.', 'PRP', 'VBP', 'VBG', 'DT', 'NNS', 'TO', 'VB', 'DT', 'NN', 'IN', 'DT', 'JJ', 'NN', '.', 'PRP', 'VBP', 'VBG', 'DT', 'NNS', 'IN', 'NNP', 'TO', 'VB', 'PRP', 'IN', 'VBG', 'JJ', 'CC', 'JJ', ',', 'CC', 'VBG', 'NNS', 'IN', 'PRP$', 'NN', '.', 'PRP', 'VBP', 'VBG', 'NN', 'VBG', 'NN', 'TO', 'VB', 'DT', 'NN', '.', 'NNP', 'IN', 'NNS', ',', 'VBP', 'IN', 'PRP$', 'NN', ',', 'CC', 'VBP', ',', 'RB', 'JJR', ',', 'IN', 'NNP', '.', 'NNP', 'PRP', ',', 'NNP', 'NN', 'PRP', ',', 'CC', 'NNP', 'VBD', 'DT', 'NNP', 'NNPS', '.')\n"
          ]
        }
      ],
      "source": [
        "import nltk\n",
        "nltk.download('punkt')\n",
        "nltk.download('averaged_perceptron_tagger')\n",
        "from nltk.tokenize import word_tokenize\n",
        "from nltk import pos_tag\n",
        "\n",
        "file = open(\"./trump.txt\", \"r\",encoding=\"utf-8\")\n",
        "trump = file.read()\n",
        "words = word_tokenize(trump)\n",
        "\n",
        "tags = pos_tag(words)\n",
        "print(list(zip(*tags))[1])"
      ]
    },
    {
      "cell_type": "markdown",
      "metadata": {
        "id": "urCy5JVANszL"
      },
      "source": [
        "## Exercise 3. Get the nouns in the last 10 sentences from Trump's speech and find the nouns divided by sentencens. Use SpaCy.\n",
        "\n",
        "Please use Python list features to get the last 10 sentences and display nouns from it."
      ]
    },
    {
      "cell_type": "code",
      "execution_count": 4,
      "metadata": {
        "colab": {
          "base_uri": "https://localhost:8080/"
        },
        "id": "a43qQIVzNszL",
        "outputId": "b8e80848-5b14-4fce-8302-ee4071a5d7ec"
      },
      "outputs": [
        {
          "output_type": "stream",
          "name": "stdout",
          "text": [
            "[we, this vision, we, our 250 years, glorious freedom, we, tonight, this new chapter, American greatness, The time, small thinking, The time, trivial fights, us, We, the courage, the dreams, that, our hearts, the bravery, the hopes, that, our souls, the confidence, those hopes, those dreams, action, America, our aspirations, our fears, the future, failures, the past, our vision, our doubts, I, all citizens, this renewal, the American spirit, I, all Members, Congress, me, things, our country, I, everyone, this moment, yourselves, your future, America, you, God, you, God, the United States]\n"
          ]
        }
      ],
      "source": [
        "import spacy\n",
        "\n",
        "file = open(\"./trump.txt\", \"r\",encoding='utf-8')\n",
        "trump = file.read()\n",
        "\n",
        "nlp = spacy.load(\"en_core_web_sm\")\n",
        "doc = nlp(trump)\n",
        "\n",
        "sentences = []\n",
        "for sent in doc.sents:\n",
        "  sentences.append(sent)\n",
        "\n",
        "last_ten = sentences[-10:]\n",
        "\n",
        "nouns = []\n",
        "for sent in last_ten:\n",
        "  for noun in sent.noun_chunks:\n",
        "    nouns.append(noun)\n",
        "\n",
        "print(nouns)\n"
      ]
    },
    {
      "cell_type": "markdown",
      "metadata": {
        "id": "6gAEoM3jNszM"
      },
      "source": [
        "## Exercise 4. Build your own Bag Of Words implementation using tokenizer created before\n",
        "\n",
        "You need to implement following methods:\n",
        "\n",
        "- ``fit_transform`` - gets a list of strings and returns matrix with it's BoW representation\n",
        "- ``get_features_names`` - returns list of words corresponding to columns in BoW"
      ]
    },
    {
      "cell_type": "code",
      "execution_count": 5,
      "metadata": {
        "colab": {
          "base_uri": "https://localhost:8080/"
        },
        "id": "1_DkCaRkNszM",
        "outputId": "07eece15-1b27-4ea6-e71d-ed40696f41a4"
      },
      "outputs": [
        {
          "output_type": "stream",
          "name": "stdout",
          "text": [
            "[[0 0 1 1 0 0 1 0 0 0 1 0 0 0 0 0 1 1 0 0 0 0 0 0 0 0 0 0 0 1 0]\n",
            " [0 0 0 0 0 0 0 0 1 0 0 0 0 1 0 1 0 0 0 0 0 0 0 0 0 0 0 1 0 1 0]\n",
            " [0 0 0 0 0 0 0 1 0 0 1 0 0 0 0 0 0 0 0 0 0 0 0 0 1 1 1 0 0 0 0]\n",
            " [0 1 0 0 0 1 0 0 0 0 0 0 1 0 1 0 1 0 1 1 0 0 1 0 1 0 0 0 0 1 1]\n",
            " [1 0 0 0 2 0 0 0 0 1 0 1 0 0 0 0 0 0 0 0 1 1 2 1 0 0 1 0 1 0 0]]\n"
          ]
        },
        {
          "output_type": "execute_result",
          "data": {
            "text/plain": [
              "31"
            ]
          },
          "metadata": {},
          "execution_count": 5
        }
      ],
      "source": [
        "import numpy as np\n",
        "import spacy\n",
        "\n",
        "class BagOfWords:\n",
        "    \"\"\"Basic BoW implementation.\"\"\"\n",
        "\n",
        "    __nlp = spacy.load(\"en_core_web_sm\")\n",
        "    __bow_list = []\n",
        "\n",
        "    def fit_transform(self, corpus: list):\n",
        "        \"\"\"Transform list of strings into BoW array.\n",
        "\n",
        "        Parameters\n",
        "        ----------\n",
        "        corpus: List[str]\n",
        "                Corpus of texts to be transforrmed\n",
        "\n",
        "        Returns\n",
        "        -------\n",
        "        np.array\n",
        "                Matrix representation of BoW\n",
        "\n",
        "        \"\"\"\n",
        "        words = []\n",
        "        for sentence in corpus:\n",
        "            words.extend(re.findall(r\"\\b\\w+'\\w+\\b|\\b\\w+\\.\\w+\\.\\w+\\b|:\\w|\\b\\w+\\b\", sentence.lower()))\n",
        "\n",
        "        self.__bow_list = sorted(set(words))\n",
        "        bow_matrix = np.zeros((len(corpus), len(self.__bow_list)), dtype=int)\n",
        "\n",
        "        for i, sentence in enumerate(corpus):\n",
        "            words = re.findall(r\"\\b\\w+'\\w+\\b|\\b\\w+\\.\\w+\\.\\w+\\b|:\\w|\\b\\w+\\b\", sentence.lower()) # Tokenizing and lowercasing\n",
        "            for word in words:\n",
        "                if word in self.__bow_list:\n",
        "                    bow_matrix[i, self.__bow_list.index(word)] += 1 # Count word occurrences\n",
        "\n",
        "        return bow_matrix\n",
        "\n",
        "\n",
        "    def get_feature_names(self) -> list:\n",
        "        \"\"\"Return words corresponding to columns of matrix.\n",
        "\n",
        "        Returns\n",
        "        -------\n",
        "        List[str]\n",
        "                Words being transformed by fit function\n",
        "\n",
        "        \"\"\"\n",
        "        # your code goes here\n",
        "        return self.__bow_list\n",
        "\n",
        "corpus = [\n",
        "     'Bag Of Words is based on counting',\n",
        "     'words occurences throughout multiple documents.',\n",
        "     'This is the third document.',\n",
        "     'As you can see most of the words occur only once.',\n",
        "     'This gives us a pretty sparse matrix, see below. Really, see below',\n",
        "]\n",
        "\n",
        "vectorizer = BagOfWords()\n",
        "\n",
        "X = vectorizer.fit_transform(corpus)\n",
        "print(X)\n",
        "\n",
        "vectorizer.get_feature_names()\n",
        "len(vectorizer.get_feature_names())"
      ]
    },
    {
      "cell_type": "markdown",
      "metadata": {
        "id": "HeCo2IceNszO"
      },
      "source": [
        "## Exercise 5. Build a 5-gram model and clean up the results.\n",
        "\n",
        "There are three tasks to do:\n",
        "1. Use 5-gram model instead of 3.\n",
        "2. Change to capital letter each first letter of a sentence.\n",
        "3. Remove the whitespace between the last word in a sentence and . ! or ?.\n",
        "\n",
        "Hint: for 2. and 3. implement a function called ``clean_generated()`` that takes the generated text and fix both issues at once. It could be easier to fix the text after it's generated rather then doing some changes in the while loop."
      ]
    },
    {
      "cell_type": "code",
      "execution_count": 16,
      "metadata": {
        "colab": {
          "base_uri": "https://localhost:8080/"
        },
        "id": "rj-_47hmNszO",
        "outputId": "846a5287-1113-461e-fbc3-6e63fdb499d7"
      },
      "outputs": [
        {
          "output_type": "stream",
          "name": "stderr",
          "text": [
            "[nltk_data] Downloading package gutenberg to /root/nltk_data...\n",
            "[nltk_data]   Package gutenberg is already up-to-date!\n",
            "[nltk_data] Downloading package genesis to /root/nltk_data...\n",
            "[nltk_data]   Package genesis is already up-to-date!\n",
            "[nltk_data] Downloading package inaugural to /root/nltk_data...\n",
            "[nltk_data]   Package inaugural is already up-to-date!\n",
            "[nltk_data] Downloading package nps_chat to /root/nltk_data...\n",
            "[nltk_data]   Package nps_chat is already up-to-date!\n",
            "[nltk_data] Downloading package webtext to /root/nltk_data...\n",
            "[nltk_data]   Package webtext is already up-to-date!\n",
            "[nltk_data] Downloading package treebank to /root/nltk_data...\n",
            "[nltk_data]   Package treebank is already up-to-date!\n"
          ]
        }
      ],
      "source": [
        "nltk.download('gutenberg')\n",
        "nltk.download('genesis')\n",
        "nltk.download('inaugural')\n",
        "nltk.download('nps_chat')\n",
        "nltk.download('webtext')\n",
        "nltk.download('treebank')\n",
        "from nltk.book import *\n",
        "\n",
        "wall_street = text7.tokens\n",
        "\n",
        "import re\n",
        "\n",
        "tokens = wall_street\n",
        "\n",
        "def cleanup():\n",
        "    compiled_pattern = re.compile(\"^[a-zA-Z0-9.!?]\")\n",
        "    clean = list(filter(compiled_pattern.match,tokens))\n",
        "    return clean\n",
        "tokens = cleanup()\n",
        "\n",
        "def build_ngrams():\n",
        "    ngrams = []\n",
        "    for i in range(len(tokens)-N+1):\n",
        "        ngrams.append(tokens[i:i+N])\n",
        "    return ngrams\n",
        "\n",
        "def ngram_freqs(ngrams):\n",
        "    counts = {}\n",
        "\n",
        "    for ngram in ngrams:\n",
        "        token_seq  = SEP.join(ngram[:-1])\n",
        "        last_token = ngram[-1]\n",
        "\n",
        "        if token_seq not in counts:\n",
        "            counts[token_seq] = {}\n",
        "\n",
        "        if last_token not in counts[token_seq]:\n",
        "            counts[token_seq][last_token] = 0\n",
        "\n",
        "        counts[token_seq][last_token] += 1;\n",
        "\n",
        "    return counts\n",
        "\n",
        "def next_word(text, N, counts):\n",
        "\n",
        "    token_seq = SEP.join(text.split()[-(N-1):]);\n",
        "    choices = counts[token_seq].items();\n",
        "\n",
        "    total = sum(weight for choice, weight in choices)\n",
        "    r = random.uniform(0, total)\n",
        "    upto = 0\n",
        "    for choice, weight in choices:\n",
        "        upto += weight;\n",
        "        if upto > r: return choice\n",
        "    assert False # should not reach here"
      ]
    },
    {
      "cell_type": "code",
      "execution_count": 25,
      "metadata": {
        "colab": {
          "base_uri": "https://localhost:8080/"
        },
        "id": "PyM4_zklNszP",
        "outputId": "d58093a0-8e05-4c70-f2bc-56628a80048d"
      },
      "outputs": [
        {
          "output_type": "stream",
          "name": "stdout",
          "text": [
            "Some grain elevators are offering farmers 2.15 a bushel for corn. Many farmers probably would n't sell until prices rose at least 20 cents a bushel said 0 Lyle Reed president of Chicago Central Pacific Railroad Co. of Waterloo Iowa. It is n't clear however whether support for the proposal will be broad enough to pose a serious challenge to the White House acid-rain plan. While the new proposal might appeal to the dirtiest utilities it might not win the support of utilities many in the West that already have added expensive cleanup equipment or burn cleaner-burning fuels.\n"
          ]
        }
      ],
      "source": [
        "import random\n",
        "\n",
        "def clean_generated(generated):\n",
        "    generated = generated.replace(\" .\", \".\")\n",
        "    generated = generated.replace(\" ?\", \"?\")\n",
        "    generated = generated.replace(\" !\", \"!\")\n",
        "\n",
        "    sentences = tokenize_sentence(generated)\n",
        "\n",
        "    clean = []\n",
        "    for sentence in sentences:\n",
        "        if len(sentence) > 0:\n",
        "            sentence = sentence[0].upper() + sentence[1:]\n",
        "            clean.append(sentence)\n",
        "\n",
        "    return ' '.join(clean)\n",
        "\n",
        "N=5 # fix it for other value of N\n",
        "\n",
        "SEP=\" \"\n",
        "\n",
        "sentence_count=5\n",
        "\n",
        "ngrams = build_ngrams()\n",
        "start_seq=\"We have found that\"\n",
        "\n",
        "counts = ngram_freqs(ngrams)\n",
        "\n",
        "if start_seq is None or start_seq not in counts: start_seq = random.choice(list(counts.keys()))\n",
        "generated = start_seq.lower();\n",
        "\n",
        "success = False\n",
        "while not success:\n",
        "    try:\n",
        "        sentences = 0\n",
        "        while sentences < sentence_count:\n",
        "            generated += SEP + next_word(generated, N, counts)\n",
        "            sentences += 1 if generated.endswith(('.','!', '?')) else 0\n",
        "\n",
        "        success = True\n",
        "\n",
        "    except Exception as e:\n",
        "        start_seq = random.choice(list(counts.keys()))\n",
        "\n",
        "generated = clean_generated(generated)\n",
        "\n",
        "print(generated)"
      ]
    }
  ],
  "metadata": {
    "kernelspec": {
      "display_name": "Python 3",
      "language": "python",
      "name": "python3"
    },
    "language_info": {
      "codemirror_mode": {
        "name": "ipython",
        "version": 3
      },
      "file_extension": ".py",
      "mimetype": "text/x-python",
      "name": "python",
      "nbconvert_exporter": "python",
      "pygments_lexer": "ipython3",
      "version": "3.6.9"
    },
    "colab": {
      "provenance": []
    }
  },
  "nbformat": 4,
  "nbformat_minor": 0
}