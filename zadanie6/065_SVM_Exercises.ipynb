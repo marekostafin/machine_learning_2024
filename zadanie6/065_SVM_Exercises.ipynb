{
  "cells": [
    {
      "cell_type": "markdown",
      "metadata": {
        "id": "FknQRR3ujzwN"
      },
      "source": [
        "# Exercises\n",
        "\n",
        "In this section we have two exercises:\n",
        "1. Implement the polynomial kernel.\n",
        "2. Implement the multiclass C-SVM."
      ]
    },
    {
      "cell_type": "markdown",
      "metadata": {
        "id": "j-q0hPFsjzwP"
      },
      "source": [
        "## Polynomial kernel\n",
        "\n",
        "You need to extend the ``build_kernel`` function and implement the polynomial kernel if the ``kernel_type`` is set to 'poly'. The equation that needs to be implemented:\n",
        "\\begin{equation}\n",
        "K=(X^{T}*Y)^{d}.\n",
        "\\end{equation}"
      ]
    },
    {
      "cell_type": "code",
      "execution_count": 1,
      "metadata": {
        "id": "AcoFkZcdjzwQ"
      },
      "outputs": [],
      "source": [
        "def build_kernel(data_set, kernel_type='linear', d=5):\n",
        "    kernel = np.dot(data_set, data_set.T)\n",
        "    if kernel_type == 'rbf':\n",
        "        sigma = 1.0\n",
        "        objects_count = len(data_set)\n",
        "        b = np.ones((len(data_set), 1))\n",
        "        kernel -= 0.5 * (np.dot((np.diag(kernel)*np.ones((1, objects_count))).T, b.T)\n",
        "                         + np.dot(b, (np.diag(kernel) * np.ones((1, objects_count))).T.T))\n",
        "        kernel = np.exp(kernel / (2. * sigma ** 2))\n",
        "    elif kernel_type == 'poly':\n",
        "        # Dla Y = X:\n",
        "        kernel = pow(np.dot(data_set.T, data_set), d)\n",
        "    return kernel"
      ]
    },
    {
      "cell_type": "markdown",
      "metadata": {
        "id": "4Hm9oiWrjzwR"
      },
      "source": [
        "## Implement a multiclass C-SVM\n",
        "\n",
        "Use the classification method that we used in notebook 7.3 and IRIS dataset to build a multiclass C-SVM classifier. Most implementation is about a function that will return the proper data set that need to be used for the prediction. You need to implement:\n",
        "- ``choose_set_for_label``\n",
        "- ``get_labels_count``"
      ]
    },
    {
      "cell_type": "code",
      "source": [
        "from sklearn.datasets import load_iris\n",
        "import numpy as np\n",
        "from sklearn.model_selection import train_test_split\n",
        "import cvxopt\n",
        "from sklearn.datasets import load_iris"
      ],
      "metadata": {
        "id": "PxP6aGtPvmlc"
      },
      "execution_count": 10,
      "outputs": []
    },
    {
      "cell_type": "code",
      "execution_count": 14,
      "metadata": {
        "id": "-lKAH0uDjzwS"
      },
      "outputs": [],
      "source": [
        "def choose_set_for_label(data_set, label):\n",
        "\n",
        "    data = data_set.data\n",
        "    labels = data_set.target\n",
        "\n",
        "    mask = labels != label\n",
        "    filtered_data = data[mask]\n",
        "    filtered_labels = labels[mask]\n",
        "\n",
        "    train_data_set, test_data_set, train_labels, test_labels = train_test_split(\n",
        "        filtered_data, filtered_labels, test_size=0.2, random_state=15)\n",
        "\n",
        "    train_labels[train_labels < 1] = -1\n",
        "    test_labels[test_labels < 1] = -1\n",
        "\n",
        "    return train_data_set, test_data_set, train_labels, test_labels"
      ]
    },
    {
      "cell_type": "code",
      "execution_count": 4,
      "metadata": {
        "id": "edULq78njzwT"
      },
      "outputs": [],
      "source": [
        "def get_labels_count(data_set):\n",
        "    labels_count = len(np.unique(data_set))\n",
        "    return labels_count"
      ]
    },
    {
      "cell_type": "markdown",
      "source": [
        "Use the code that we have implemented earlier:"
      ],
      "metadata": {
        "id": "e5slBuwt0mmM"
      }
    },
    {
      "cell_type": "code",
      "execution_count": 7,
      "metadata": {
        "id": "U8DPCk8ojzwU"
      },
      "outputs": [],
      "source": [
        "def train(train_data_set, train_labels, kernel_type='linear', C=10, threshold=1e-5):\n",
        "    kernel = build_kernel(train_data_set, kernel_type=kernel_type)\n",
        "\n",
        "    P = train_labels * train_labels.transpose() * kernel\n",
        "    q = -np.ones((objects_count, 1))\n",
        "    G = np.concatenate((np.eye(objects_count), -np.eye(objects_count)))\n",
        "    h = np.concatenate((C * np.ones((objects_count, 1)), np.zeros((objects_count, 1))))\n",
        "\n",
        "    A = train_labels.reshape(1, objects_count)\n",
        "    A = A.astype(float)\n",
        "    b = 0.0\n",
        "\n",
        "    sol = cvxopt.solvers.qp(cvxopt.matrix(P), cvxopt.matrix(q), cvxopt.matrix(G), cvxopt.matrix(h), cvxopt.matrix(A), cvxopt.matrix(b))\n",
        "\n",
        "    lambdas = np.array(sol['x'])\n",
        "\n",
        "    support_vectors_id = np.where(lambdas > threshold)[0]\n",
        "    vector_number = len(support_vectors_id)\n",
        "    support_vectors = train_data_set[support_vectors_id, :]\n",
        "\n",
        "    lambdas = lambdas[support_vectors_id]\n",
        "    targets = train_labels[support_vectors_id]\n",
        "\n",
        "    b = np.sum(targets)\n",
        "    for n in range(vector_number):\n",
        "        b -= np.sum(lambdas * targets * np.reshape(kernel[support_vectors_id[n], support_vectors_id], (vector_number, 1)))\n",
        "    b /= len(lambdas)\n",
        "\n",
        "    return lambdas, support_vectors, support_vectors_id, b, targets, vector_number\n",
        "\n",
        "def build_kernel(data_set, kernel_type='linear'):\n",
        "    kernel = np.dot(data_set, data_set.T)\n",
        "    if kernel_type == 'rbf':\n",
        "        sigma = 1.0\n",
        "        objects_count = len(data_set)\n",
        "        b = np.ones((len(data_set), 1))\n",
        "        kernel -= 0.5 * (np.dot((np.diag(kernel)*np.ones((1, objects_count))).T, b.T)\n",
        "                         + np.dot(b, (np.diag(kernel) * np.ones((1, objects_count))).T.T))\n",
        "        kernel = np.exp(kernel / (2. * sigma ** 2))\n",
        "    return kernel\n",
        "\n",
        "def classify_rbf(test_data_set, train_data_set, lambdas, targets, b, vector_number, support_vectors, support_vectors_id):\n",
        "    kernel = np.dot(test_data_set, support_vectors.T)\n",
        "    sigma = 1.0\n",
        "    #K = np.dot(test_data_set, support_vectors.T)\n",
        "    #kernel = build_kernel(train_data_set, kernel_type='rbf')\n",
        "    c = (1. / sigma * np.sum(test_data_set ** 2, axis=1) * np.ones((1, np.shape(test_data_set)[0]))).T\n",
        "    c = np.dot(c, np.ones((1, np.shape(kernel)[1])))\n",
        "    #aa = np.dot((np.diag(K)*np.ones((1,len(test_data_set)))).T[support_vectors_id], np.ones((1, np.shape(K)[0]))).T\n",
        "    sv = (np.diag(np.dot(train_data_set, train_data_set.T))*np.ones((1,len(train_data_set)))).T[support_vectors_id]\n",
        "    aa = np.dot(sv,np.ones((1,np.shape(kernel)[0]))).T\n",
        "    kernel = kernel - 0.5 * c - 0.5 * aa\n",
        "    kernel = np.exp(kernel / (2. * sigma ** 2))\n",
        "\n",
        "    y = np.zeros((np.shape(test_data_set)[0], 1))\n",
        "    for j in range(np.shape(test_data_set)[0]):\n",
        "        for i in range(vector_number):\n",
        "            y[j] += lambdas[i] * targets[i] * kernel[j, i]\n",
        "        y[j] += b\n",
        "    return np.sign(y)"
      ]
    },
    {
      "cell_type": "code",
      "execution_count": 15,
      "metadata": {
        "colab": {
          "base_uri": "https://localhost:8080/"
        },
        "id": "pPs9cYdtjzwV",
        "outputId": "daef9023-2ef9-43b5-adca-25a570d1c36e"
      },
      "outputs": [
        {
          "output_type": "stream",
          "name": "stdout",
          "text": [
            "     pcost       dcost       gap    pres   dres\n",
            " 0:  9.6305e+01 -1.2289e+03  2e+03  2e-01  2e-15\n",
            " 1:  5.9143e+01 -1.2031e+02  2e+02  5e-03  2e-15\n",
            " 2:  7.0898e+00 -1.6497e+01  2e+01  2e-16  2e-15\n",
            " 3: -5.2057e-01 -3.7668e+00  3e+00  2e-16  9e-16\n",
            " 4: -1.1712e+00 -1.8374e+00  7e-01  2e-16  3e-16\n",
            " 5: -1.3952e+00 -1.6846e+00  3e-01  2e-16  2e-16\n",
            " 6: -1.4671e+00 -1.5679e+00  1e-01  2e-16  3e-16\n",
            " 7: -1.5060e+00 -1.5164e+00  1e-02  2e-16  3e-16\n",
            " 8: -1.5105e+00 -1.5106e+00  1e-04  2e-16  3e-16\n",
            " 9: -1.5105e+00 -1.5105e+00  1e-06  2e-16  3e-16\n",
            "Optimal solution found.\n",
            "0.85\n"
          ]
        }
      ],
      "source": [
        "iris = load_iris()\n",
        "label = 2\n",
        "\n",
        "train_data_set, test_data_set, train_labels, test_labels = choose_set_for_label(iris, label)\n",
        "objects_count = len(train_labels)\n",
        "\n",
        "lambdas, support_vectors, support_vectors_id, b, targets, vector_number = train(train_data_set, train_labels, kernel_type='rbf')\n",
        "predicted = classify_rbf(test_data_set, train_data_set, lambdas, targets, b, vector_number, support_vectors, support_vectors_id)\n",
        "predicted = list(predicted.astype(int))\n",
        "\n",
        "from sklearn.metrics import accuracy_score\n",
        "\n",
        "print(accuracy_score(predicted, test_labels))"
      ]
    }
  ],
  "metadata": {
    "kernelspec": {
      "display_name": "Python 3",
      "language": "python",
      "name": "python3"
    },
    "language_info": {
      "codemirror_mode": {
        "name": "ipython",
        "version": 3
      },
      "file_extension": ".py",
      "mimetype": "text/x-python",
      "name": "python",
      "nbconvert_exporter": "python",
      "pygments_lexer": "ipython3",
      "version": "3.7.3"
    },
    "colab": {
      "provenance": []
    }
  },
  "nbformat": 4,
  "nbformat_minor": 0
}