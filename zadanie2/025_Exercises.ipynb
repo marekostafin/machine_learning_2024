{
 "cells": [
  {
   "cell_type": "markdown",
   "metadata": {},
   "source": [
    "# Exercises\n",
    "\n",
    "There are three exercises in this notebook:\n",
    "\n",
    "1. Use the cross-validation method to test the linear regression with different $\\alpha$ values, at least three.\n",
    "2. Implement a SGD method that will train the Lasso regression for 10 epochs.\n",
    "3. Extend the Fisher's classifier to work with two features. Use the class as the $y$."
   ]
  },
  {
   "cell_type": "code",
   "execution_count": 2,
   "metadata": {
    "collapsed": false
   },
   "outputs": [
    {
     "name": "stdout",
     "output_type": "stream",
     "text": [
      "Collecting scikit-learn\n",
      "  Using cached https://files.pythonhosted.org/packages/42/ec/32310181e803f5d22e0dd33eb18924489b2f8d08cf5b6e116a93a6a5d1c6/scikit_learn-0.22.2.post1-cp35-cp35m-manylinux1_x86_64.whl\n",
      "Collecting numpy>=1.11.0 (from scikit-learn)\n",
      "  Using cached https://files.pythonhosted.org/packages/b5/36/88723426b4ff576809fec7d73594fe17a35c27f8d01f93637637a29ae25b/numpy-1.18.5-cp35-cp35m-manylinux1_x86_64.whl\n",
      "Collecting joblib>=0.11 (from scikit-learn)\n",
      "  Using cached https://files.pythonhosted.org/packages/28/5c/cf6a2b65a321c4a209efcdf64c2689efae2cb62661f8f6f4bb28547cf1bf/joblib-0.14.1-py2.py3-none-any.whl\n",
      "Collecting scipy>=0.17.0 (from scikit-learn)\n",
      "  Using cached https://files.pythonhosted.org/packages/c1/60/8cbf00c0deb50a971e6e3a015fb32513960a92867df979870a454481817c/scipy-1.4.1-cp35-cp35m-manylinux1_x86_64.whl\n",
      "Installing collected packages: numpy, joblib, scipy, scikit-learn\n",
      "Successfully installed joblib-0.14.1 numpy-1.18.5 scikit-learn-0.22.2.post1 scipy-1.4.1\n"
     ]
    }
   ],
   "source": [
    "!pip3 install scikit-learn"
   ]
  },
  {
   "cell_type": "code",
   "execution_count": 3,
   "metadata": {
    "collapsed": false
   },
   "outputs": [
    {
     "name": "stdout",
     "output_type": "stream",
     "text": [
      "Collecting pandas\n",
      "  Using cached https://files.pythonhosted.org/packages/a9/55/e3f34ad611f703454b951bab6bde9a432f1af92994cebc4d8e0ec0af38c4/pandas-0.25.3-cp35-cp35m-manylinux1_x86_64.whl\n",
      "Collecting pytz>=2017.2 (from pandas)\n",
      "  Using cached https://files.pythonhosted.org/packages/9c/3d/a121f284241f08268b21359bd425f7d4825cffc5ac5cd0e1b3d82ffd2b10/pytz-2024.1-py2.py3-none-any.whl\n",
      "Collecting numpy>=1.13.3 (from pandas)\n",
      "  Using cached https://files.pythonhosted.org/packages/b5/36/88723426b4ff576809fec7d73594fe17a35c27f8d01f93637637a29ae25b/numpy-1.18.5-cp35-cp35m-manylinux1_x86_64.whl\n",
      "Collecting python-dateutil>=2.6.1 (from pandas)\n",
      "  Using cached https://files.pythonhosted.org/packages/ec/57/56b9bcc3c9c6a792fcbaf139543cee77261f3651ca9da0c93f5c1221264b/python_dateutil-2.9.0.post0-py2.py3-none-any.whl\n",
      "Collecting six>=1.5 (from python-dateutil>=2.6.1->pandas)\n",
      "  Using cached https://files.pythonhosted.org/packages/d9/5a/e7c31adbe875f2abbb91bd84cf2dc52d792b5a01506781dbcf25c91daf11/six-1.16.0-py2.py3-none-any.whl\n",
      "Installing collected packages: pytz, numpy, six, python-dateutil, pandas\n",
      "Successfully installed numpy-1.18.5 pandas-0.25.3 python-dateutil-2.9.0.post0 pytz-2024.1 six-1.16.0\n"
     ]
    }
   ],
   "source": [
    "!pip3 install pandas"
   ]
  },
  {
   "cell_type": "code",
   "execution_count": 5,
   "metadata": {
    "collapsed": false
   },
   "outputs": [],
   "source": [
    "import numpy as np\n",
    "import matplotlib.pyplot as plt"
   ]
  },
  {
   "cell_type": "markdown",
   "metadata": {},
   "source": [
    "## 1. Cross-validation linear regression\n",
    "\n",
    "You need to change the variable ``alpha`` to be a list of alphas. Next do a loop and finally compare the results."
   ]
  },
  {
   "cell_type": "code",
   "execution_count": 6,
   "metadata": {
    "collapsed": false
   },
   "outputs": [
    {
     "name": "stdout",
     "output_type": "stream",
     "text": [
      "[[-101.72397081    1.16978757]]\n",
      "[[-70.75142154   0.99445055]]\n",
      "[[-36.97522016   0.80324169]]\n",
      "[[-22.59287195   0.7218221 ]]\n"
     ]
    }
   ],
   "source": [
    "x = np.array([188, 181, 197, 168, 167, 187, 178, 194, 140, 176, 168, 192, 173, 142, 176]).reshape(-1, 1).reshape(15,1)\n",
    "y = np.array([141, 106, 149, 59, 79, 136, 65, 136, 52, 87, 115, 140, 82, 69, 121]).reshape(-1, 1).reshape(15,1)\n",
    "\n",
    "x = np.asmatrix(np.c_[np.ones((15,1)),x])\n",
    "\n",
    "I = np.identity(2)\n",
    "alpha = np.array([0.1, 0.2, 0.5, 0.9])\n",
    "\n",
    "w = []\n",
    "for i in range(len(alpha)):\n",
    "    w.append(np.linalg.inv(x.T*x + alpha[i] * I)*x.T*y)\n",
    "    w[i] = w[i].ravel()\n",
    "\n",
    "for i in range(len(alpha)):\n",
    "    print(w[i])\n"
   ]
  },
  {
   "cell_type": "markdown",
   "metadata": {},
   "source": [
    "## 2. Implement based on the Ridge regression example, the Lasso regression.\n",
    "\n",
    "Please implement the SGD method and compare the results with the sklearn Lasso regression results. "
   ]
  },
  {
   "cell_type": "code",
   "execution_count": null,
   "metadata": {
    "collapsed": true
   },
   "outputs": [],
   "source": [
    "def sgd():\n",
    "    # your code goes here\n",
    "    pass"
   ]
  },
  {
   "cell_type": "code",
   "execution_count": null,
   "metadata": {
    "collapsed": true
   },
   "outputs": [],
   "source": [
    "x = np.array([188, 181, 197, 168, 167, 187, 178, 194, 140, 176, 168, 192, 173, 142, 176]).reshape(-1, 1).reshape(15,1)\n",
    "y = np.array([141, 106, 149, 59, 79, 136, 65, 136, 52, 87, 115, 140, 82, 69, 121]).reshape(-1, 1).reshape(15,1)\n",
    "\n",
    "x = np.asmatrix(np.c_[np.ones((15,1)),x])\n",
    "\n",
    "I = np.identity(2)\n",
    "alpha = 0.1 \n",
    "\n",
    "\n",
    "w = np.linalg.inv(x.T*x + alpha * I)*x.T*y # update this line\n",
    "w=w.ravel()\n"
   ]
  },
  {
   "cell_type": "markdown",
   "metadata": {},
   "source": [
    "## 3. Extend the Fisher's classifier\n",
    "\n",
    "Please extend the targets of the ``iris_data`` variable and use it as the $y$."
   ]
  },
  {
   "cell_type": "code",
   "execution_count": 8,
   "metadata": {
    "collapsed": false
   },
   "outputs": [
    {
     "name": "stdout",
     "output_type": "stream",
     "text": [
      "[4.85647097 4.9681515  4.92347929 4.94581539 4.83413486 4.9448426\n",
      " 4.9676651  4.87880708 4.99048761 4.85695737 4.81179876 4.87880708\n",
      " 4.87929348 4.87929348 4.74479044 4.83316207 4.9448426  4.945329\n",
      " 4.87832068 4.87832068 4.87880708 4.98951481 4.83413486 5.16771726\n",
      " 4.87880708 4.9681515  5.05652313 4.85647097 4.87880708 4.92347929\n",
      " 4.94581539 5.05652313 4.63359631 4.70011823 4.94581539 4.92347929\n",
      " 4.85647097 4.74527684 4.9681515  4.87880708 4.945329   5.21336227\n",
      " 4.92347929 5.21190307 4.9671787  5.05700953 4.78946265 4.92347929\n",
      " 4.81179876 4.90114318 5.98977559 6.07863362 6.10096972 6.10194252\n",
      " 6.16797804 5.99026199 6.14515554 5.81303234 5.96792589 6.10145612\n",
      " 5.90237676 6.12330583 5.85770455 6.05678391 5.96792589 6.0121117\n",
      " 6.12330583 5.74602402 6.30199468 5.87955426 6.34520769 5.99026199\n",
      " 6.23498636 5.90140397 5.96792589 6.03444781 6.07912002 6.30102188\n",
      " 6.14564194 5.76836013 5.90189037 5.81303234 5.92374007 6.27917217\n",
      " 6.12330583 6.12281943 6.10096972 6.10194252 5.94558978 6.05727031\n",
      " 5.94607618 6.03444781 5.94607618 5.83536845 6.0125981  5.85673175\n",
      " 5.96792589 5.96792589 5.87955426 5.99026199 6.94487777 6.54574625\n",
      " 6.65645398 6.41221601 6.74531201 6.65645398 6.41270241 6.41221601\n",
      " 6.50156044 6.87786945 6.52292375 6.54574625 6.65645398 6.67927649\n",
      " 6.96770027 6.78949782 6.38987991 6.56662316 6.92351446 6.30199468\n",
      " 6.78949782 6.61226817 6.61226817 6.45688822 6.58944566 6.34520769\n",
      " 6.43455212 6.38987991 6.70112619 6.21216386 6.52341014 6.38890711\n",
      " 6.78998422 6.16797804 6.12379223 6.83417003 6.83368363 6.3675438\n",
      " 6.38987991 6.63411788 6.90069195 6.81183393 6.54574625 6.78949782\n",
      " 6.94487777 6.83417003 6.59041846 6.56759596 6.74482561 6.38987991]\n"
     ]
    }
   ],
   "source": [
    "import pandas as pd\n",
    "import numpy as np\n",
    "import matplotlib.pyplot as plt\n",
    "from sklearn.datasets import load_iris\n",
    "\n",
    "iris_data = load_iris()\n",
    "iris_df = pd.DataFrame(iris_data.data,columns=iris_data.feature_names)\n",
    "iris_df.head()\n",
    "\n",
    "x1 = iris_df['sepal width (cm)'].values # change here\n",
    "x2 = iris_df['petal width (cm)'].values # change here\n",
    "y = iris_df['sepal length (cm)'].values # change here\n",
    "\n",
    "dataset_size = np.size(x)\n",
    "\n",
    "mean_x1, mean_x2, mean_y = np.mean(x1), np.mean(x2), np.mean(y)\n",
    "\n",
    "SS_x1y = np.sum(y * x1) - dataset_size * mean_y * mean_x1\n",
    "SS_x2y = np.sum(y * x2) - dataset_size * mean_y * mean_x2\n",
    "SS_x1x1 = np.sum(x1 * x1) - dataset_size * mean_x1 * mean_x1\n",
    "SS_x2x2 = np.sum(x2 * x2) - dataset_size * mean_x2 * mean_x2\n",
    "\n",
    "a1 = SS_x1y / SS_x1x1\n",
    "a2 = SS_x2y / SS_x2x2\n",
    "b = mean_y - a1 * mean_x1 - a2 * mean_x2\n",
    "\n",
    "\n",
    "y_pred = a1 * x1 + a2 * x2 + b\n",
    "print(y_pred)"
   ]
  },
  {
   "cell_type": "code",
   "execution_count": null,
   "metadata": {
    "collapsed": true
   },
   "outputs": [],
   "source": []
  }
 ],
 "metadata": {
  "kernelspec": {
   "display_name": "Python 3",
   "language": "python",
   "name": "python3"
  }
 },
 "nbformat": 4,
 "nbformat_minor": 4
}
